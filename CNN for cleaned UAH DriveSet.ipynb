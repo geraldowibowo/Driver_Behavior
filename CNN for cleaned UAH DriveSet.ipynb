{
 "cells": [
  {
   "cell_type": "code",
   "execution_count": 15,
   "metadata": {},
   "outputs": [],
   "source": [
    "import numpy as np\n",
    "from numpy import array\n",
    "import math\n",
    "\n",
    "import pandas as pd \n",
    "from pandas import DataFrame\n",
    "from pandas import concat\n",
    "from datetime import datetime\n",
    "from keras.models import Sequential, load_model\n",
    "from keras.layers import Dense, Dropout\n",
    "from keras.layers import LSTM\n",
    "from sklearn.preprocessing import LabelEncoder\n",
    "from sklearn.preprocessing import MinMaxScaler\n",
    "from sklearn.model_selection import train_test_split\n",
    "from sklearn.metrics import mean_squared_error\n",
    "from sklearn.neural_network import MLPClassifier\n",
    "\n",
    "# keras imports for the dataset and building our neural network\n",
    "from keras.datasets import mnist\n",
    "from keras.models import Sequential\n",
    "from keras.layers import Dense, Dropout, Conv2D, MaxPool2D, Flatten\n",
    "from keras.utils import np_utils\n",
    "\n",
    "# to calculate accuracy\n",
    "from sklearn.metrics import accuracy_score\n",
    "\n",
    "import tensorflow as tf\n",
    "import tensorflow.keras.layers as KL\n",
    "\n",
    "from matplotlib import pyplot"
   ]
  },
  {
   "cell_type": "code",
   "execution_count": 16,
   "metadata": {},
   "outputs": [],
   "source": [
    "input_data = pd.read_csv (r'C:/Users/Geraldo Wibowo/Desktop/Year 4/FYP/JUPYTER TEST 1/11_5_2020/input2.csv', index_col = 0)\n",
    "input_data.index.name = 'Timestamp (seconds)'"
   ]
  },
  {
   "cell_type": "code",
   "execution_count": 17,
   "metadata": {},
   "outputs": [],
   "source": [
    "output_data = pd.read_csv (r'C:/Users/Geraldo Wibowo/Desktop/Year 4/FYP/JUPYTER TEST 1/11_5_2020/output2.csv', index_col = 0)\n",
    "output_data.index.name = 'Timestamp (seconds)'"
   ]
  },
  {
   "cell_type": "code",
   "execution_count": 18,
   "metadata": {},
   "outputs": [
    {
     "data": {
      "text/plain": [
       "(30929, 1)"
      ]
     },
     "execution_count": 18,
     "metadata": {},
     "output_type": "execute_result"
    }
   ],
   "source": [
    "output_data.shape"
   ]
  },
  {
   "cell_type": "code",
   "execution_count": 19,
   "metadata": {},
   "outputs": [],
   "source": [
    "split_columns = 1"
   ]
  },
  {
   "cell_type": "code",
   "execution_count": 20,
   "metadata": {},
   "outputs": [],
   "source": [
    "#output_data2 = np.array(output_data)\n",
    "#print(output_data2.shape)\n",
    "\n",
    "#Y = list()\n",
    "\n",
    "#for i in range((int(split_columns/2)),output_data2.shape[0], split_columns):\n",
    "#    Y.append(output_data2[i])\n",
    "\n",
    "#Y = array(Y)\n",
    "#print(Y.shape)\n",
    "\n",
    "#DECODING Y\n",
    "# integer encode direction\n",
    "#encoder = LabelEncoder()\n",
    "#Y = encoder.fit_transform(Y)\n",
    "#print(Y.shape)"
   ]
  },
  {
   "cell_type": "code",
   "execution_count": 21,
   "metadata": {},
   "outputs": [
    {
     "name": "stdout",
     "output_type": "stream",
     "text": [
      "(30929, 3)\n"
     ]
    }
   ],
   "source": [
    "#Modifying the output_data to, putting to Y in array\n",
    "#1 0 0 for normal\n",
    "#0 1 0 for drowsy\n",
    "#0 0 1 for aggressive\n",
    "\n",
    "output_data = np.array(output_data)\n",
    "\n",
    "Y = list()\n",
    "\n",
    "for i in range(int(output_data.shape[0]/split_columns)):\n",
    "    condition = output_data[(i*split_columns)]    \n",
    "    behavior = []\n",
    "    if(condition=='DROWSY'):\n",
    "        behavior = [0,1,0]\n",
    "    elif(condition=='AGGRESSIVE'):\n",
    "        behavior = [0,0,1]\n",
    "    else:\n",
    "        behavior = [1,0,0]\n",
    "    \n",
    "    Y.append(behavior)\n",
    "\n",
    "Y = array(Y)\n",
    "print(Y.shape)"
   ]
  },
  {
   "cell_type": "code",
   "execution_count": 22,
   "metadata": {},
   "outputs": [
    {
     "name": "stdout",
     "output_type": "stream",
     "text": [
      "(30929, 34)\n",
      "(30929, 3)\n"
     ]
    }
   ],
   "source": [
    "#min max scaler\n",
    "X = input_data\n",
    "scaler = MinMaxScaler()\n",
    "X = scaler.fit_transform(X)\n",
    "print(X.shape)\n",
    "print(Y.shape)"
   ]
  },
  {
   "cell_type": "code",
   "execution_count": 23,
   "metadata": {},
   "outputs": [],
   "source": [
    "#USE THIS IF MINMAX SCALER IS NOT USED\n",
    "#X = np.array(X)\n",
    "#X = np.reshape(X,(int(X.shape[0]/split_columns),split_columns,X.shape[1]))\n",
    "#print(X.shape)"
   ]
  },
  {
   "cell_type": "code",
   "execution_count": 24,
   "metadata": {},
   "outputs": [
    {
     "name": "stdout",
     "output_type": "stream",
     "text": [
      "(30929, 1, 34, 1)\n"
     ]
    }
   ],
   "source": [
    "#RESHAPING X\n",
    "X = np.reshape(X,(int(X.shape[0]/split_columns),split_columns,X.shape[1],1))\n",
    "print(X.shape)"
   ]
  },
  {
   "cell_type": "code",
   "execution_count": 25,
   "metadata": {},
   "outputs": [],
   "source": [
    "#SPLITTING TRAINING AND TEST DATA METHOD 1\n",
    "X_train, X_test, Y_train, Y_test = train_test_split(X, Y, test_size = 0.2, random_state = 4)"
   ]
  },
  {
   "cell_type": "code",
   "execution_count": 26,
   "metadata": {},
   "outputs": [
    {
     "name": "stdout",
     "output_type": "stream",
     "text": [
      "(24743, 1, 34, 1)\n",
      "(6186, 1, 34, 1)\n",
      "(24743, 3)\n",
      "(6186, 3)\n"
     ]
    }
   ],
   "source": [
    "#SPLITTING TRAINING AND TEST DATA METHOD 2\n",
    "#X_train = X[:(int(X.shape[0] * 0.8)),:,:]\n",
    "#X_test = X[(int(X.shape[0] * 0.8)):,:,:]\n",
    "print(X_train.shape)\n",
    "print(X_test.shape)\n",
    "#Y_train = Y[:(int(Y.shape[0] * 0.8)),:]\n",
    "#Y_test = Y[(int(Y.shape[0] * 0.8)):,:]\n",
    "print(Y_train.shape)\n",
    "print(Y_test.shape)"
   ]
  },
  {
   "cell_type": "code",
   "execution_count": 27,
   "metadata": {},
   "outputs": [],
   "source": [
    "#MAKING SURE DATA TYPE ARE CORRECT\n",
    "X_train = np.asarray(X_train).astype('float32')\n",
    "Y_train = np.asarray(Y_train).astype('float32')"
   ]
  },
  {
   "cell_type": "code",
   "execution_count": 28,
   "metadata": {},
   "outputs": [],
   "source": [
    "# building a linear stack of layers with the sequential model\n",
    "model = Sequential()\n",
    "# convolutional layer\n",
    "model.add(Conv2D(25, kernel_size=(1,3), strides=(1,1), padding='valid', activation='relu', input_shape=(1,34,1)))\n",
    "model.add(MaxPool2D(pool_size=(1,1)))\n",
    "# flatten output of conv\n",
    "model.add(Flatten())\n",
    "# hidden layer\n",
    "model.add(Dense(100, activation='relu'))\n",
    "# output layer\n",
    "model.add(Dense(3, activation='softmax'))"
   ]
  },
  {
   "cell_type": "code",
   "execution_count": 29,
   "metadata": {},
   "outputs": [
    {
     "name": "stdout",
     "output_type": "stream",
     "text": [
      "Model: \"sequential\"\n",
      "_________________________________________________________________\n",
      "Layer (type)                 Output Shape              Param #   \n",
      "=================================================================\n",
      "conv2d (Conv2D)              (None, 1, 32, 25)         100       \n",
      "_________________________________________________________________\n",
      "max_pooling2d (MaxPooling2D) (None, 1, 32, 25)         0         \n",
      "_________________________________________________________________\n",
      "flatten (Flatten)            (None, 800)               0         \n",
      "_________________________________________________________________\n",
      "dense (Dense)                (None, 100)               80100     \n",
      "_________________________________________________________________\n",
      "dense_1 (Dense)              (None, 3)                 303       \n",
      "=================================================================\n",
      "Total params: 80,503\n",
      "Trainable params: 80,503\n",
      "Non-trainable params: 0\n",
      "_________________________________________________________________\n"
     ]
    }
   ],
   "source": [
    "model.summary()"
   ]
  },
  {
   "cell_type": "code",
   "execution_count": 12,
   "metadata": {},
   "outputs": [
    {
     "name": "stdout",
     "output_type": "stream",
     "text": [
      "Epoch 1/100\n",
      "194/194 [==============================] - 2s 8ms/step - loss: 0.9474 - accuracy: 0.5066 - val_loss: 0.8608 - val_accuracy: 0.5761\n",
      "Epoch 2/100\n",
      "194/194 [==============================] - 1s 6ms/step - loss: 0.8084 - accuracy: 0.6003 - val_loss: 0.7725 - val_accuracy: 0.6124\n",
      "Epoch 3/100\n",
      "194/194 [==============================] - 1s 5ms/step - loss: 0.7337 - accuracy: 0.6407 - val_loss: 0.6945 - val_accuracy: 0.6604\n",
      "Epoch 4/100\n",
      "194/194 [==============================] - 1s 5ms/step - loss: 0.6950 - accuracy: 0.6597 - val_loss: 0.6714 - val_accuracy: 0.6710\n",
      "Epoch 5/100\n",
      "194/194 [==============================] - 1s 6ms/step - loss: 0.6591 - accuracy: 0.6832 - val_loss: 0.6341 - val_accuracy: 0.6977\n",
      "Epoch 6/100\n",
      "194/194 [==============================] - 1s 5ms/step - loss: 0.6373 - accuracy: 0.6969 - val_loss: 0.6220 - val_accuracy: 0.6979\n",
      "Epoch 7/100\n",
      "194/194 [==============================] - 1s 5ms/step - loss: 0.6048 - accuracy: 0.7169 - val_loss: 0.6118 - val_accuracy: 0.6995\n",
      "Epoch 8/100\n",
      "194/194 [==============================] - 1s 5ms/step - loss: 0.5891 - accuracy: 0.7276 - val_loss: 0.5867 - val_accuracy: 0.7202\n",
      "Epoch 9/100\n",
      "194/194 [==============================] - 1s 5ms/step - loss: 0.5694 - accuracy: 0.7428 - val_loss: 0.5528 - val_accuracy: 0.7630\n",
      "Epoch 10/100\n",
      "194/194 [==============================] - 1s 5ms/step - loss: 0.5509 - accuracy: 0.7575 - val_loss: 0.5367 - val_accuracy: 0.7541\n",
      "Epoch 11/100\n",
      "194/194 [==============================] - 1s 5ms/step - loss: 0.5372 - accuracy: 0.7621 - val_loss: 0.5228 - val_accuracy: 0.7608\n",
      "Epoch 12/100\n",
      "194/194 [==============================] - 1s 5ms/step - loss: 0.5281 - accuracy: 0.7666 - val_loss: 0.5216 - val_accuracy: 0.7761\n",
      "Epoch 13/100\n",
      "194/194 [==============================] - 1s 5ms/step - loss: 0.5213 - accuracy: 0.7691 - val_loss: 0.5184 - val_accuracy: 0.7677\n",
      "Epoch 14/100\n",
      "194/194 [==============================] - 1s 5ms/step - loss: 0.5037 - accuracy: 0.7786 - val_loss: 0.5009 - val_accuracy: 0.7818\n",
      "Epoch 15/100\n",
      "194/194 [==============================] - 1s 5ms/step - loss: 0.4915 - accuracy: 0.7884 - val_loss: 0.4730 - val_accuracy: 0.7913\n",
      "Epoch 16/100\n",
      "194/194 [==============================] - 1s 5ms/step - loss: 0.4873 - accuracy: 0.7885 - val_loss: 0.4639 - val_accuracy: 0.8004\n",
      "Epoch 17/100\n",
      "194/194 [==============================] - 1s 5ms/step - loss: 0.4751 - accuracy: 0.7927 - val_loss: 0.4632 - val_accuracy: 0.7908\n",
      "Epoch 18/100\n",
      "194/194 [==============================] - 1s 5ms/step - loss: 0.4640 - accuracy: 0.8001 - val_loss: 0.4691 - val_accuracy: 0.7916\n",
      "Epoch 19/100\n",
      "194/194 [==============================] - 1s 5ms/step - loss: 0.4584 - accuracy: 0.8027 - val_loss: 0.4703 - val_accuracy: 0.7890\n",
      "Epoch 20/100\n",
      "194/194 [==============================] - 1s 5ms/step - loss: 0.4473 - accuracy: 0.8069 - val_loss: 0.4333 - val_accuracy: 0.8178\n",
      "Epoch 21/100\n",
      "194/194 [==============================] - 1s 5ms/step - loss: 0.4480 - accuracy: 0.8053 - val_loss: 0.4274 - val_accuracy: 0.8168\n",
      "Epoch 22/100\n",
      "194/194 [==============================] - 1s 5ms/step - loss: 0.4369 - accuracy: 0.8122 - val_loss: 0.4223 - val_accuracy: 0.8193\n",
      "Epoch 23/100\n",
      "194/194 [==============================] - 1s 5ms/step - loss: 0.4294 - accuracy: 0.8163 - val_loss: 0.4279 - val_accuracy: 0.8159\n",
      "Epoch 24/100\n",
      "194/194 [==============================] - 1s 5ms/step - loss: 0.4257 - accuracy: 0.8162 - val_loss: 0.4162 - val_accuracy: 0.8170\n",
      "Epoch 25/100\n",
      "194/194 [==============================] - 1s 5ms/step - loss: 0.4176 - accuracy: 0.8203 - val_loss: 0.4040 - val_accuracy: 0.8311\n",
      "Epoch 26/100\n",
      "194/194 [==============================] - 1s 5ms/step - loss: 0.4175 - accuracy: 0.8165 - val_loss: 0.4447 - val_accuracy: 0.8063\n",
      "Epoch 27/100\n",
      "194/194 [==============================] - 1s 5ms/step - loss: 0.4061 - accuracy: 0.8252 - val_loss: 0.4051 - val_accuracy: 0.8286\n",
      "Epoch 28/100\n",
      "194/194 [==============================] - 1s 5ms/step - loss: 0.3963 - accuracy: 0.8292 - val_loss: 0.3984 - val_accuracy: 0.8270\n",
      "Epoch 29/100\n",
      "194/194 [==============================] - 1s 5ms/step - loss: 0.3959 - accuracy: 0.8316 - val_loss: 0.3954 - val_accuracy: 0.8317\n",
      "Epoch 30/100\n",
      "194/194 [==============================] - 1s 5ms/step - loss: 0.3858 - accuracy: 0.8364 - val_loss: 0.3810 - val_accuracy: 0.8343\n",
      "Epoch 31/100\n",
      "194/194 [==============================] - 1s 5ms/step - loss: 0.3861 - accuracy: 0.8355 - val_loss: 0.3818 - val_accuracy: 0.8416\n",
      "Epoch 32/100\n",
      "194/194 [==============================] - 1s 5ms/step - loss: 0.3818 - accuracy: 0.8387 - val_loss: 0.4015 - val_accuracy: 0.8228\n",
      "Epoch 33/100\n",
      "194/194 [==============================] - 1s 5ms/step - loss: 0.3754 - accuracy: 0.8399 - val_loss: 0.3913 - val_accuracy: 0.8246\n",
      "Epoch 34/100\n",
      "194/194 [==============================] - 1s 6ms/step - loss: 0.3771 - accuracy: 0.8392 - val_loss: 0.3657 - val_accuracy: 0.8479\n",
      "Epoch 35/100\n",
      "194/194 [==============================] - 1s 5ms/step - loss: 0.3694 - accuracy: 0.8433 - val_loss: 0.3800 - val_accuracy: 0.8401\n",
      "Epoch 36/100\n",
      "194/194 [==============================] - 1s 5ms/step - loss: 0.3625 - accuracy: 0.8473 - val_loss: 0.3604 - val_accuracy: 0.8440\n",
      "Epoch 37/100\n",
      "194/194 [==============================] - 1s 5ms/step - loss: 0.3600 - accuracy: 0.8480 - val_loss: 0.3545 - val_accuracy: 0.8500\n",
      "Epoch 38/100\n",
      "194/194 [==============================] - 1s 5ms/step - loss: 0.3575 - accuracy: 0.8500 - val_loss: 0.3590 - val_accuracy: 0.8468\n",
      "Epoch 39/100\n",
      "194/194 [==============================] - 1s 5ms/step - loss: 0.3545 - accuracy: 0.8492 - val_loss: 0.3590 - val_accuracy: 0.8469\n",
      "Epoch 40/100\n",
      "194/194 [==============================] - 1s 5ms/step - loss: 0.3544 - accuracy: 0.8499 - val_loss: 0.3500 - val_accuracy: 0.8542\n",
      "Epoch 41/100\n",
      "194/194 [==============================] - 1s 5ms/step - loss: 0.3456 - accuracy: 0.8552 - val_loss: 0.3411 - val_accuracy: 0.8540\n",
      "Epoch 42/100\n",
      "194/194 [==============================] - 1s 6ms/step - loss: 0.3496 - accuracy: 0.8511 - val_loss: 0.3304 - val_accuracy: 0.8543\n",
      "Epoch 43/100\n",
      "194/194 [==============================] - 1s 6ms/step - loss: 0.3356 - accuracy: 0.8608 - val_loss: 0.3259 - val_accuracy: 0.8684\n",
      "Epoch 44/100\n",
      "194/194 [==============================] - 1s 5ms/step - loss: 0.3337 - accuracy: 0.8596 - val_loss: 0.3355 - val_accuracy: 0.8573\n",
      "Epoch 45/100\n",
      "194/194 [==============================] - 1s 5ms/step - loss: 0.3324 - accuracy: 0.8621 - val_loss: 0.3563 - val_accuracy: 0.8497\n",
      "Epoch 46/100\n",
      "194/194 [==============================] - 1s 5ms/step - loss: 0.3366 - accuracy: 0.8576 - val_loss: 0.3305 - val_accuracy: 0.8637\n",
      "Epoch 47/100\n",
      "194/194 [==============================] - 1s 5ms/step - loss: 0.3276 - accuracy: 0.8642 - val_loss: 0.3360 - val_accuracy: 0.8600\n",
      "Epoch 48/100\n",
      "194/194 [==============================] - 1s 5ms/step - loss: 0.3220 - accuracy: 0.8666 - val_loss: 0.3275 - val_accuracy: 0.8576\n",
      "Epoch 49/100\n",
      "194/194 [==============================] - 1s 6ms/step - loss: 0.3258 - accuracy: 0.8653 - val_loss: 0.3269 - val_accuracy: 0.8637\n",
      "Epoch 50/100\n",
      "194/194 [==============================] - 1s 6ms/step - loss: 0.3196 - accuracy: 0.8674 - val_loss: 0.3316 - val_accuracy: 0.8623\n",
      "Epoch 51/100\n",
      "194/194 [==============================] - 1s 6ms/step - loss: 0.3122 - accuracy: 0.8701 - val_loss: 0.3101 - val_accuracy: 0.8702\n",
      "Epoch 52/100\n",
      "194/194 [==============================] - 1s 5ms/step - loss: 0.3137 - accuracy: 0.8697 - val_loss: 0.3190 - val_accuracy: 0.8658\n",
      "Epoch 53/100\n",
      "194/194 [==============================] - 1s 5ms/step - loss: 0.3151 - accuracy: 0.8677 - val_loss: 0.3193 - val_accuracy: 0.8661\n",
      "Epoch 54/100\n",
      "194/194 [==============================] - 1s 5ms/step - loss: 0.3141 - accuracy: 0.8707 - val_loss: 0.3150 - val_accuracy: 0.8720\n",
      "Epoch 55/100\n",
      "194/194 [==============================] - 1s 5ms/step - loss: 0.3041 - accuracy: 0.8762 - val_loss: 0.3339 - val_accuracy: 0.8552\n",
      "Epoch 56/100\n",
      "194/194 [==============================] - 1s 5ms/step - loss: 0.3082 - accuracy: 0.8719 - val_loss: 0.2971 - val_accuracy: 0.8778\n",
      "Epoch 57/100\n",
      "194/194 [==============================] - 1s 5ms/step - loss: 0.3039 - accuracy: 0.8760 - val_loss: 0.3084 - val_accuracy: 0.8697\n"
     ]
    },
    {
     "name": "stdout",
     "output_type": "stream",
     "text": [
      "Epoch 58/100\n",
      "194/194 [==============================] - 1s 5ms/step - loss: 0.2999 - accuracy: 0.8773 - val_loss: 0.3225 - val_accuracy: 0.8636\n",
      "Epoch 59/100\n",
      "194/194 [==============================] - 1s 6ms/step - loss: 0.2966 - accuracy: 0.8803 - val_loss: 0.2970 - val_accuracy: 0.8750\n",
      "Epoch 60/100\n",
      "194/194 [==============================] - 1s 5ms/step - loss: 0.3014 - accuracy: 0.8775 - val_loss: 0.3146 - val_accuracy: 0.8653\n",
      "Epoch 61/100\n",
      "194/194 [==============================] - 1s 6ms/step - loss: 0.3055 - accuracy: 0.8741 - val_loss: 0.2911 - val_accuracy: 0.8838\n",
      "Epoch 62/100\n",
      "194/194 [==============================] - 1s 6ms/step - loss: 0.2974 - accuracy: 0.8786 - val_loss: 0.3077 - val_accuracy: 0.8710\n",
      "Epoch 63/100\n",
      "194/194 [==============================] - 1s 6ms/step - loss: 0.2917 - accuracy: 0.8825 - val_loss: 0.2960 - val_accuracy: 0.8773\n",
      "Epoch 64/100\n",
      "194/194 [==============================] - 1s 6ms/step - loss: 0.2958 - accuracy: 0.8786 - val_loss: 0.3225 - val_accuracy: 0.8681\n",
      "Epoch 65/100\n",
      "194/194 [==============================] - 1s 5ms/step - loss: 0.2926 - accuracy: 0.8786 - val_loss: 0.2852 - val_accuracy: 0.8836\n",
      "Epoch 66/100\n",
      "194/194 [==============================] - 1s 6ms/step - loss: 0.2874 - accuracy: 0.8829 - val_loss: 0.2889 - val_accuracy: 0.8752\n",
      "Epoch 67/100\n",
      "194/194 [==============================] - 1s 6ms/step - loss: 0.2871 - accuracy: 0.8831 - val_loss: 0.3317 - val_accuracy: 0.8550\n",
      "Epoch 68/100\n",
      "194/194 [==============================] - 1s 6ms/step - loss: 0.2843 - accuracy: 0.8838 - val_loss: 0.2881 - val_accuracy: 0.8841\n",
      "Epoch 69/100\n",
      "194/194 [==============================] - 1s 6ms/step - loss: 0.2838 - accuracy: 0.8837 - val_loss: 0.3191 - val_accuracy: 0.8579\n",
      "Epoch 70/100\n",
      "194/194 [==============================] - 1s 5ms/step - loss: 0.2793 - accuracy: 0.8861 - val_loss: 0.2779 - val_accuracy: 0.8834\n",
      "Epoch 71/100\n",
      "194/194 [==============================] - 1s 6ms/step - loss: 0.2797 - accuracy: 0.8847 - val_loss: 0.2761 - val_accuracy: 0.8846\n",
      "Epoch 72/100\n",
      "194/194 [==============================] - 1s 6ms/step - loss: 0.2778 - accuracy: 0.8852 - val_loss: 0.3031 - val_accuracy: 0.8792\n",
      "Epoch 73/100\n",
      "194/194 [==============================] - 1s 6ms/step - loss: 0.2787 - accuracy: 0.8853 - val_loss: 0.3059 - val_accuracy: 0.8723\n",
      "Epoch 74/100\n",
      "194/194 [==============================] - 1s 6ms/step - loss: 0.2743 - accuracy: 0.8880 - val_loss: 0.2868 - val_accuracy: 0.8830\n",
      "Epoch 75/100\n",
      "194/194 [==============================] - 1s 6ms/step - loss: 0.2673 - accuracy: 0.8929 - val_loss: 0.2708 - val_accuracy: 0.8854\n",
      "Epoch 76/100\n",
      "194/194 [==============================] - 1s 6ms/step - loss: 0.2772 - accuracy: 0.8874 - val_loss: 0.3064 - val_accuracy: 0.8687\n",
      "Epoch 77/100\n",
      "194/194 [==============================] - 1s 6ms/step - loss: 0.2655 - accuracy: 0.8903 - val_loss: 0.2848 - val_accuracy: 0.8859\n",
      "Epoch 78/100\n",
      "194/194 [==============================] - 1s 5ms/step - loss: 0.2648 - accuracy: 0.8914 - val_loss: 0.3177 - val_accuracy: 0.8581\n",
      "Epoch 79/100\n",
      "194/194 [==============================] - 1s 5ms/step - loss: 0.2710 - accuracy: 0.8875 - val_loss: 0.2764 - val_accuracy: 0.8876\n",
      "Epoch 80/100\n",
      "194/194 [==============================] - 1s 6ms/step - loss: 0.2630 - accuracy: 0.8933 - val_loss: 0.2802 - val_accuracy: 0.8836\n",
      "Epoch 81/100\n",
      "194/194 [==============================] - 1s 6ms/step - loss: 0.2616 - accuracy: 0.8921 - val_loss: 0.2779 - val_accuracy: 0.8847\n",
      "Epoch 82/100\n",
      "194/194 [==============================] - 1s 5ms/step - loss: 0.2601 - accuracy: 0.8941 - val_loss: 0.2625 - val_accuracy: 0.8928\n",
      "Epoch 83/100\n",
      "194/194 [==============================] - 1s 5ms/step - loss: 0.2620 - accuracy: 0.8940 - val_loss: 0.2669 - val_accuracy: 0.8899\n",
      "Epoch 84/100\n",
      "194/194 [==============================] - 1s 5ms/step - loss: 0.2582 - accuracy: 0.8945 - val_loss: 0.2601 - val_accuracy: 0.8919\n",
      "Epoch 85/100\n",
      "194/194 [==============================] - 1s 5ms/step - loss: 0.2613 - accuracy: 0.8941 - val_loss: 0.2749 - val_accuracy: 0.8873\n",
      "Epoch 86/100\n",
      "194/194 [==============================] - 1s 4ms/step - loss: 0.2559 - accuracy: 0.8954 - val_loss: 0.2744 - val_accuracy: 0.8839\n",
      "Epoch 87/100\n",
      "194/194 [==============================] - 1s 4ms/step - loss: 0.2588 - accuracy: 0.8955 - val_loss: 0.2580 - val_accuracy: 0.8920\n",
      "Epoch 88/100\n",
      "194/194 [==============================] - 1s 4ms/step - loss: 0.2528 - accuracy: 0.8986 - val_loss: 0.2528 - val_accuracy: 0.8996\n",
      "Epoch 89/100\n",
      "194/194 [==============================] - 1s 4ms/step - loss: 0.2505 - accuracy: 0.8987 - val_loss: 0.2561 - val_accuracy: 0.8972\n",
      "Epoch 90/100\n",
      "194/194 [==============================] - 1s 5ms/step - loss: 0.2479 - accuracy: 0.9003 - val_loss: 0.2901 - val_accuracy: 0.8725\n",
      "Epoch 91/100\n",
      "194/194 [==============================] - 1s 5ms/step - loss: 0.2470 - accuracy: 0.9007 - val_loss: 0.2918 - val_accuracy: 0.8763\n",
      "Epoch 92/100\n",
      "194/194 [==============================] - 1s 4ms/step - loss: 0.2464 - accuracy: 0.9003 - val_loss: 0.2650 - val_accuracy: 0.8922\n",
      "Epoch 93/100\n",
      "194/194 [==============================] - 1s 4ms/step - loss: 0.2447 - accuracy: 0.9009 - val_loss: 0.2666 - val_accuracy: 0.8910\n",
      "Epoch 94/100\n",
      "194/194 [==============================] - 1s 4ms/step - loss: 0.2416 - accuracy: 0.9037 - val_loss: 0.2971 - val_accuracy: 0.8734\n",
      "Epoch 95/100\n",
      "194/194 [==============================] - 1s 4ms/step - loss: 0.2433 - accuracy: 0.9012 - val_loss: 0.2544 - val_accuracy: 0.8928\n",
      "Epoch 96/100\n",
      "194/194 [==============================] - 1s 4ms/step - loss: 0.2419 - accuracy: 0.9044 - val_loss: 0.2512 - val_accuracy: 0.8991\n",
      "Epoch 97/100\n",
      "194/194 [==============================] - 1s 4ms/step - loss: 0.2405 - accuracy: 0.9018 - val_loss: 0.2597 - val_accuracy: 0.8970\n",
      "Epoch 98/100\n",
      "194/194 [==============================] - 1s 5ms/step - loss: 0.2366 - accuracy: 0.9060 - val_loss: 0.2465 - val_accuracy: 0.9041\n",
      "Epoch 99/100\n",
      "194/194 [==============================] - 1s 5ms/step - loss: 0.2379 - accuracy: 0.9031 - val_loss: 0.2570 - val_accuracy: 0.8983\n",
      "Epoch 100/100\n",
      "194/194 [==============================] - 1s 5ms/step - loss: 0.2330 - accuracy: 0.9062 - val_loss: 0.2737 - val_accuracy: 0.8862\n"
     ]
    },
    {
     "data": {
      "text/plain": [
       "<tensorflow.python.keras.callbacks.History at 0x2431653f7c0>"
      ]
     },
     "execution_count": 12,
     "metadata": {},
     "output_type": "execute_result"
    }
   ],
   "source": [
    "# compiling the sequential model\n",
    "model.compile(loss='categorical_crossentropy', metrics=['accuracy'], optimizer='adam')\n",
    "\n",
    "# training the model for 10 epochs\n",
    "model.fit(X_train, Y_train, batch_size=128, epochs=100, validation_data=(X_test, Y_test))"
   ]
  },
  {
   "cell_type": "code",
   "execution_count": 13,
   "metadata": {},
   "outputs": [
    {
     "name": "stdout",
     "output_type": "stream",
     "text": [
      "(6186, 3)\n",
      "After the predictions has been estimated, the accuracy is 88.61946330423537 %\n"
     ]
    }
   ],
   "source": [
    "check2 = X_test.reshape((X_test.shape[0], X.shape[1], X.shape[2],1))\n",
    "predictions = model.predict(check2)\n",
    "print(predictions.shape)\n",
    "for i in range(predictions.shape[0]):\n",
    "    if (predictions[i][0] >= predictions[i][1] and predictions[i][0] >= predictions[i][2]):\n",
    "        predictions[i] = [1, 0, 0]\n",
    "    elif (predictions[i][1] >= predictions[i][0] and predictions[i][1] >= predictions[i][2]):\n",
    "        predictions[i] = [0, 1, 0]\n",
    "    else:\n",
    "        predictions[i] = [0, 0, 1]\n",
    "\n",
    "\n",
    "        \n",
    "count = 0\n",
    "for i in range(predictions.shape[0]):\n",
    "    if(predictions[i][0] == (Y_test[i][0]) and predictions[i][1] == (Y_test[i][1]) and predictions[i][2] == (Y_test[i][2]) ):\n",
    "        count = count + 1\n",
    "print('After the predictions has been estimated, the accuracy is ' + str((count/predictions.shape[0])*100) + ' %')"
   ]
  },
  {
   "cell_type": "code",
   "execution_count": null,
   "metadata": {},
   "outputs": [],
   "source": []
  },
  {
   "cell_type": "code",
   "execution_count": null,
   "metadata": {},
   "outputs": [],
   "source": []
  },
  {
   "cell_type": "code",
   "execution_count": null,
   "metadata": {},
   "outputs": [],
   "source": []
  },
  {
   "cell_type": "code",
   "execution_count": null,
   "metadata": {},
   "outputs": [],
   "source": []
  },
  {
   "cell_type": "code",
   "execution_count": null,
   "metadata": {},
   "outputs": [],
   "source": []
  },
  {
   "cell_type": "code",
   "execution_count": null,
   "metadata": {},
   "outputs": [],
   "source": []
  },
  {
   "cell_type": "code",
   "execution_count": null,
   "metadata": {},
   "outputs": [],
   "source": []
  },
  {
   "cell_type": "code",
   "execution_count": null,
   "metadata": {},
   "outputs": [],
   "source": []
  },
  {
   "cell_type": "code",
   "execution_count": 47,
   "metadata": {},
   "outputs": [],
   "source": [
    "#NEURAL NETWORK"
   ]
  },
  {
   "cell_type": "code",
   "execution_count": 48,
   "metadata": {},
   "outputs": [],
   "source": [
    "#RESHAPING X_TRAIN\n",
    "#nsamples, nx, ny = X_train.shape\n",
    "#X_train2 = X_train.reshape((nsamples,nx*ny))\n",
    "#THIS NUMBER IS THE INPUT LAYER (23200)\n",
    "#print(X_train2.shape)"
   ]
  },
  {
   "cell_type": "code",
   "execution_count": 49,
   "metadata": {},
   "outputs": [],
   "source": [
    "#RESHAPING X_TEST\n",
    "#nsamples, nx, ny = X_test.shape\n",
    "#X_test2 = X_test.reshape((nsamples,nx*ny))"
   ]
  },
  {
   "cell_type": "code",
   "execution_count": 95,
   "metadata": {},
   "outputs": [
    {
     "name": "stdout",
     "output_type": "stream",
     "text": [
      "Tensor(\"input_8:0\", shape=(None, 1, 34), dtype=float32)\n"
     ]
    }
   ],
   "source": [
    "## Model\n",
    "inputs = KL.Input(shape=(split_columns, X_train.shape[2]))\n",
    "print(inputs)"
   ]
  },
  {
   "cell_type": "code",
   "execution_count": 118,
   "metadata": {},
   "outputs": [
    {
     "name": "stdout",
     "output_type": "stream",
     "text": [
      "Tensor(\"simple_rnn_12/strided_slice_3:0\", shape=(None, 100), dtype=float32)\n"
     ]
    }
   ],
   "source": [
    "# For RNN\n",
    "x = KL.SimpleRNN(100, activation ='relu')(inputs) \n",
    "print(x)"
   ]
  },
  {
   "cell_type": "code",
   "execution_count": 119,
   "metadata": {},
   "outputs": [
    {
     "name": "stdout",
     "output_type": "stream",
     "text": [
      "Tensor(\"dense_14/Softmax:0\", shape=(None, 3), dtype=float32)\n"
     ]
    }
   ],
   "source": [
    "outputs = KL.Dense(3, activation=\"softmax\")(x)\n",
    "print(outputs)"
   ]
  },
  {
   "cell_type": "code",
   "execution_count": 120,
   "metadata": {},
   "outputs": [
    {
     "name": "stdout",
     "output_type": "stream",
     "text": [
      "Model: \"functional_29\"\n",
      "_________________________________________________________________\n",
      "Layer (type)                 Output Shape              Param #   \n",
      "=================================================================\n",
      "input_8 (InputLayer)         [(None, 1, 34)]           0         \n",
      "_________________________________________________________________\n",
      "simple_rnn_12 (SimpleRNN)    (None, 100)               13500     \n",
      "_________________________________________________________________\n",
      "dense_14 (Dense)             (None, 3)                 303       \n",
      "=================================================================\n",
      "Total params: 13,803\n",
      "Trainable params: 13,803\n",
      "Non-trainable params: 0\n",
      "_________________________________________________________________\n"
     ]
    }
   ],
   "source": [
    "model = tf.keras.models.Model(inputs, outputs)\n",
    "model.summary()"
   ]
  },
  {
   "cell_type": "code",
   "execution_count": 121,
   "metadata": {},
   "outputs": [
    {
     "name": "stdout",
     "output_type": "stream",
     "text": [
      "Epoch 1/100\n",
      "725/725 [==============================] - 1s 947us/step - loss: 0.9409 - acc: 0.5127\n",
      "Epoch 2/100\n",
      "725/725 [==============================] - 1s 951us/step - loss: 0.8178 - acc: 0.5860\n",
      "Epoch 3/100\n",
      "725/725 [==============================] - 1s 943us/step - loss: 0.7613 - acc: 0.6152\n",
      "Epoch 4/100\n",
      "725/725 [==============================] - 1s 916us/step - loss: 0.7227 - acc: 0.6369\n",
      "Epoch 5/100\n",
      "725/725 [==============================] - 1s 912us/step - loss: 0.6938 - acc: 0.6593\n",
      "Epoch 6/100\n",
      "725/725 [==============================] - 1s 907us/step - loss: 0.6700 - acc: 0.6754\n",
      "Epoch 7/100\n",
      "725/725 [==============================] - 1s 919us/step - loss: 0.6507 - acc: 0.6884\n",
      "Epoch 8/100\n",
      "725/725 [==============================] - 1s 915us/step - loss: 0.6313 - acc: 0.7013\n",
      "Epoch 9/100\n",
      "725/725 [==============================] - 1s 878us/step - loss: 0.6184 - acc: 0.7077\n",
      "Epoch 10/100\n",
      "725/725 [==============================] - 1s 852us/step - loss: 0.6028 - acc: 0.7221\n",
      "Epoch 11/100\n",
      "725/725 [==============================] - 1s 856us/step - loss: 0.5904 - acc: 0.7259\n",
      "Epoch 12/100\n",
      "725/725 [==============================] - 1s 852us/step - loss: 0.5761 - acc: 0.7359\n",
      "Epoch 13/100\n",
      "725/725 [==============================] - 1s 850us/step - loss: 0.5676 - acc: 0.7428\n",
      "Epoch 14/100\n",
      "725/725 [==============================] - 1s 846us/step - loss: 0.5555 - acc: 0.7523\n",
      "Epoch 15/100\n",
      "725/725 [==============================] - 1s 850us/step - loss: 0.5491 - acc: 0.7536\n",
      "Epoch 16/100\n",
      "725/725 [==============================] - 1s 857us/step - loss: 0.5393 - acc: 0.7603\n",
      "Epoch 17/100\n",
      "725/725 [==============================] - 1s 830us/step - loss: 0.5294 - acc: 0.7644\n",
      "Epoch 18/100\n",
      "725/725 [==============================] - 1s 833us/step - loss: 0.5217 - acc: 0.7703\n",
      "Epoch 19/100\n",
      "725/725 [==============================] - 1s 847us/step - loss: 0.5137 - acc: 0.7756\n",
      "Epoch 20/100\n",
      "725/725 [==============================] - 1s 837us/step - loss: 0.5066 - acc: 0.7780\n",
      "Epoch 21/100\n",
      "725/725 [==============================] - 1s 842us/step - loss: 0.5007 - acc: 0.7822\n",
      "Epoch 22/100\n",
      "725/725 [==============================] - 1s 851us/step - loss: 0.4927 - acc: 0.7863\n",
      "Epoch 23/100\n",
      "725/725 [==============================] - 1s 796us/step - loss: 0.4891 - acc: 0.7871\n",
      "Epoch 24/100\n",
      "725/725 [==============================] - 1s 797us/step - loss: 0.4834 - acc: 0.7888\n",
      "Epoch 25/100\n",
      "725/725 [==============================] - 1s 836us/step - loss: 0.4806 - acc: 0.7913\n",
      "Epoch 26/100\n",
      "725/725 [==============================] - 1s 853us/step - loss: 0.4705 - acc: 0.7960\n",
      "Epoch 27/100\n",
      "725/725 [==============================] - 1s 787us/step - loss: 0.4661 - acc: 0.7975\n",
      "Epoch 28/100\n",
      "725/725 [==============================] - 1s 783us/step - loss: 0.4607 - acc: 0.8026\n",
      "Epoch 29/100\n",
      "725/725 [==============================] - 1s 782us/step - loss: 0.4591 - acc: 0.8028\n",
      "Epoch 30/100\n",
      "725/725 [==============================] - 1s 783us/step - loss: 0.4533 - acc: 0.8032\n",
      "Epoch 31/100\n",
      "725/725 [==============================] - 1s 789us/step - loss: 0.4491 - acc: 0.8072\n",
      "Epoch 32/100\n",
      "725/725 [==============================] - 1s 785us/step - loss: 0.4442 - acc: 0.8062\n",
      "Epoch 33/100\n",
      "725/725 [==============================] - 1s 790us/step - loss: 0.4405 - acc: 0.8107\n",
      "Epoch 34/100\n",
      "725/725 [==============================] - 1s 788us/step - loss: 0.4385 - acc: 0.8101\n",
      "Epoch 35/100\n",
      "725/725 [==============================] - 1s 796us/step - loss: 0.4331 - acc: 0.8133\n",
      "Epoch 36/100\n",
      "725/725 [==============================] - 1s 798us/step - loss: 0.4274 - acc: 0.8176\n",
      "Epoch 37/100\n",
      "725/725 [==============================] - 1s 781us/step - loss: 0.4294 - acc: 0.8136\n",
      "Epoch 38/100\n",
      "725/725 [==============================] - 1s 790us/step - loss: 0.4216 - acc: 0.8192\n",
      "Epoch 39/100\n",
      "725/725 [==============================] - 1s 793us/step - loss: 0.4195 - acc: 0.8198\n",
      "Epoch 40/100\n",
      "725/725 [==============================] - 1s 795us/step - loss: 0.4182 - acc: 0.8198\n",
      "Epoch 41/100\n",
      "725/725 [==============================] - 1s 807us/step - loss: 0.4149 - acc: 0.8211\n",
      "Epoch 42/100\n",
      "725/725 [==============================] - 1s 804us/step - loss: 0.4112 - acc: 0.8216\n",
      "Epoch 43/100\n",
      "725/725 [==============================] - 1s 843us/step - loss: 0.4087 - acc: 0.8249\n",
      "Epoch 44/100\n",
      "725/725 [==============================] - 1s 839us/step - loss: 0.4059 - acc: 0.8273\n",
      "Epoch 45/100\n",
      "725/725 [==============================] - 1s 795us/step - loss: 0.4040 - acc: 0.8233\n",
      "Epoch 46/100\n",
      "725/725 [==============================] - 1s 793us/step - loss: 0.4012 - acc: 0.8301\n",
      "Epoch 47/100\n",
      "725/725 [==============================] - 1s 798us/step - loss: 0.3997 - acc: 0.8285\n",
      "Epoch 48/100\n",
      "725/725 [==============================] - 1s 791us/step - loss: 0.3986 - acc: 0.8295\n",
      "Epoch 49/100\n",
      "725/725 [==============================] - 1s 793us/step - loss: 0.3943 - acc: 0.8317\n",
      "Epoch 50/100\n",
      "725/725 [==============================] - 1s 796us/step - loss: 0.3937 - acc: 0.8288\n",
      "Epoch 51/100\n",
      "725/725 [==============================] - 1s 794us/step - loss: 0.3919 - acc: 0.8312\n",
      "Epoch 52/100\n",
      "725/725 [==============================] - 1s 797us/step - loss: 0.3878 - acc: 0.8344\n",
      "Epoch 53/100\n",
      "725/725 [==============================] - 1s 804us/step - loss: 0.3831 - acc: 0.8343\n",
      "Epoch 54/100\n",
      "725/725 [==============================] - 1s 802us/step - loss: 0.3845 - acc: 0.8339\n",
      "Epoch 55/100\n",
      "725/725 [==============================] - 1s 802us/step - loss: 0.3823 - acc: 0.8359\n",
      "Epoch 56/100\n",
      "725/725 [==============================] - 1s 805us/step - loss: 0.3799 - acc: 0.8379\n",
      "Epoch 57/100\n",
      "725/725 [==============================] - 1s 808us/step - loss: 0.3792 - acc: 0.8360\n",
      "Epoch 58/100\n",
      "725/725 [==============================] - 1s 802us/step - loss: 0.3741 - acc: 0.8397\n",
      "Epoch 59/100\n",
      "725/725 [==============================] - 1s 854us/step - loss: 0.3746 - acc: 0.8375\n",
      "Epoch 60/100\n",
      "725/725 [==============================] - 1s 845us/step - loss: 0.3711 - acc: 0.8411\n",
      "Epoch 61/100\n",
      "725/725 [==============================] - 1s 882us/step - loss: 0.3692 - acc: 0.8426\n",
      "Epoch 62/100\n",
      "725/725 [==============================] - 1s 799us/step - loss: 0.3690 - acc: 0.8407\n",
      "Epoch 63/100\n",
      "725/725 [==============================] - 1s 794us/step - loss: 0.3659 - acc: 0.8440\n",
      "Epoch 64/100\n",
      "725/725 [==============================] - 1s 798us/step - loss: 0.3642 - acc: 0.8440\n",
      "Epoch 65/100\n",
      "725/725 [==============================] - 1s 800us/step - loss: 0.3646 - acc: 0.8432\n",
      "Epoch 66/100\n",
      "725/725 [==============================] - 1s 805us/step - loss: 0.3603 - acc: 0.8460\n",
      "Epoch 67/100\n",
      "725/725 [==============================] - 1s 796us/step - loss: 0.3610 - acc: 0.8444\n",
      "Epoch 68/100\n",
      "725/725 [==============================] - 1s 865us/step - loss: 0.3587 - acc: 0.8468\n",
      "Epoch 69/100\n",
      "725/725 [==============================] - 1s 800us/step - loss: 0.3574 - acc: 0.8476\n",
      "Epoch 70/100\n",
      "725/725 [==============================] - 1s 806us/step - loss: 0.3573 - acc: 0.8457\n",
      "Epoch 71/100\n",
      "725/725 [==============================] - 1s 796us/step - loss: 0.3537 - acc: 0.8489\n",
      "Epoch 72/100\n",
      "725/725 [==============================] - 1s 803us/step - loss: 0.3503 - acc: 0.8497\n",
      "Epoch 73/100\n",
      "725/725 [==============================] - 1s 804us/step - loss: 0.3500 - acc: 0.8491\n",
      "Epoch 74/100\n",
      "725/725 [==============================] - 1s 889us/step - loss: 0.3491 - acc: 0.8502\n",
      "Epoch 75/100\n",
      "725/725 [==============================] - 1s 914us/step - loss: 0.3434 - acc: 0.8544\n",
      "Epoch 76/100\n",
      "725/725 [==============================] - 1s 825us/step - loss: 0.3475 - acc: 0.8518\n",
      "Epoch 77/100\n",
      "725/725 [==============================] - 1s 808us/step - loss: 0.3439 - acc: 0.8531\n",
      "Epoch 78/100\n",
      "725/725 [==============================] - 1s 838us/step - loss: 0.3432 - acc: 0.8555\n",
      "Epoch 79/100\n",
      "725/725 [==============================] - 1s 824us/step - loss: 0.3407 - acc: 0.8541\n",
      "Epoch 80/100\n",
      "725/725 [==============================] - 1s 820us/step - loss: 0.3399 - acc: 0.8555\n",
      "Epoch 81/100\n",
      "725/725 [==============================] - 1s 812us/step - loss: 0.3396 - acc: 0.8545\n",
      "Epoch 82/100\n",
      "725/725 [==============================] - 1s 811us/step - loss: 0.3377 - acc: 0.8588\n",
      "Epoch 83/100\n",
      "725/725 [==============================] - 1s 801us/step - loss: 0.3366 - acc: 0.8554\n",
      "Epoch 84/100\n",
      "725/725 [==============================] - 1s 782us/step - loss: 0.3332 - acc: 0.8591\n",
      "Epoch 85/100\n",
      "725/725 [==============================] - 1s 783us/step - loss: 0.3338 - acc: 0.8587\n",
      "Epoch 86/100\n",
      "725/725 [==============================] - 1s 785us/step - loss: 0.3326 - acc: 0.8599\n",
      "Epoch 87/100\n",
      "725/725 [==============================] - 1s 784us/step - loss: 0.3308 - acc: 0.8601\n",
      "Epoch 88/100\n",
      "725/725 [==============================] - 1s 783us/step - loss: 0.3287 - acc: 0.8619\n",
      "Epoch 89/100\n",
      "725/725 [==============================] - 1s 783us/step - loss: 0.3289 - acc: 0.8593\n",
      "Epoch 90/100\n",
      "725/725 [==============================] - 1s 783us/step - loss: 0.3291 - acc: 0.8606\n",
      "Epoch 91/100\n",
      "725/725 [==============================] - 1s 777us/step - loss: 0.3268 - acc: 0.8621\n",
      "Epoch 92/100\n",
      "725/725 [==============================] - 1s 790us/step - loss: 0.3255 - acc: 0.8622\n",
      "Epoch 93/100\n",
      "725/725 [==============================] - 1s 803us/step - loss: 0.3245 - acc: 0.8634\n",
      "Epoch 94/100\n",
      "725/725 [==============================] - 1s 810us/step - loss: 0.3226 - acc: 0.8637\n",
      "Epoch 95/100\n",
      "725/725 [==============================] - 1s 803us/step - loss: 0.3221 - acc: 0.8644\n",
      "Epoch 96/100\n",
      "725/725 [==============================] - 1s 835us/step - loss: 0.3189 - acc: 0.8630\n",
      "Epoch 97/100\n",
      "725/725 [==============================] - 1s 804us/step - loss: 0.3192 - acc: 0.8637\n",
      "Epoch 98/100\n",
      "725/725 [==============================] - 1s 784us/step - loss: 0.3174 - acc: 0.8669\n",
      "Epoch 99/100\n",
      "725/725 [==============================] - 1s 791us/step - loss: 0.3126 - acc: 0.8700\n",
      "Epoch 100/100\n",
      "725/725 [==============================] - 1s 788us/step - loss: 0.3169 - acc: 0.8673\n"
     ]
    }
   ],
   "source": [
    "model.compile(optimizer=\"adam\",\n",
    "                loss=\"sparse_categorical_crossentropy\",\n",
    "                metrics=[\"acc\"])\n",
    "history = model.fit(X_train, Y_train, epochs=100)"
   ]
  },
  {
   "cell_type": "code",
   "execution_count": 122,
   "metadata": {},
   "outputs": [
    {
     "name": "stdout",
     "output_type": "stream",
     "text": [
      "182/182 [==============================] - 0s 705us/step - loss: 0.3323 - acc: 0.8667\n",
      "Loss: 0.332283079624176 - Acc: 0.8667241334915161\n"
     ]
    }
   ],
   "source": [
    "test_loss, test_acc = model.evaluate(X_test, Y_test)\n",
    "print(\"Loss: {0} - Acc: {1}\".format(test_loss, test_acc))"
   ]
  },
  {
   "cell_type": "code",
   "execution_count": 123,
   "metadata": {},
   "outputs": [
    {
     "data": {
      "image/png": "[encoded data removed]",
      "text/plain": [
       "<Figure size 432x288 with 1 Axes>"
      ]
     },
     "metadata": {
      "needs_background": "light"
     },
     "output_type": "display_data"
    }
   ],
   "source": [
    "# plot history\n",
    "pyplot.plot(history.history['loss'], label='train')\n",
    "pyplot.plot(history.history['acc'], label='accuracy')\n",
    "pyplot.legend()\n",
    "pyplot.show()"
   ]
  },
  {
   "cell_type": "code",
   "execution_count": null,
   "metadata": {},
   "outputs": [],
   "source": []
  },
  {
   "cell_type": "code",
   "execution_count": null,
   "metadata": {},
   "outputs": [],
   "source": []
  },
  {
   "cell_type": "code",
   "execution_count": null,
   "metadata": {},
   "outputs": [],
   "source": []
  },
  {
   "cell_type": "code",
   "execution_count": 325,
   "metadata": {},
   "outputs": [],
   "source": [
    "#calling the neural network function, choose activation, solver, hidden layer, randomize data \n",
    "nn=MLPClassifier(activation='relu',solver='adam',hidden_layer_sizes=(200,200,200),random_state=1,verbose = 1)"
   ]
  },
  {
   "cell_type": "code",
   "execution_count": 326,
   "metadata": {},
   "outputs": [
    {
     "name": "stdout",
     "output_type": "stream",
     "text": [
      "start time: 2020-11-10 02:41:37.925546\n",
      "Iteration 1, loss = 3.76620443\n",
      "Iteration 2, loss = 1.67995336\n",
      "Iteration 3, loss = 1.60279520\n",
      "Iteration 4, loss = 1.58136921\n",
      "Iteration 5, loss = 1.48383832\n"
     ]
    },
    {
     "name": "stderr",
     "output_type": "stream",
     "text": [
      "C:\\Users\\Geraldo Wibowo\\anaconda3\\lib\\site-packages\\sklearn\\neural_network\\_multilayer_perceptron.py:587: UserWarning: Training interrupted by user.\n",
      "  warnings.warn(\"Training interrupted by user.\")\n"
     ]
    },
    {
     "data": {
      "text/plain": [
       "MLPClassifier(hidden_layer_sizes=(200, 200, 200), random_state=1, verbose=3)"
      ]
     },
     "execution_count": 326,
     "metadata": {},
     "output_type": "execute_result"
    }
   ],
   "source": [
    "t1= datetime.now()\n",
    "print('start time: ' + str(t1))\n",
    "nn.fit(X_train2,Y_train)"
   ]
  },
  {
   "cell_type": "code",
   "execution_count": 327,
   "metadata": {},
   "outputs": [],
   "source": [
    "pred=nn.predict(X_test2)\n",
    "t2= datetime.now()"
   ]
  },
  {
   "cell_type": "code",
   "execution_count": 328,
   "metadata": {},
   "outputs": [
    {
     "name": "stdout",
     "output_type": "stream",
     "text": [
      "After the predictions has been estimated, the accuracy is 39.706896551724135 %\n",
      "Elapsed time: 0:00:04.126958\n"
     ]
    }
   ],
   "source": [
    "count=0\n",
    "\n",
    "for i in range(len(pred)):\n",
    "    if(pred[i][0] == (Y_test[i][0]) and pred[i][1] == (Y_test[i][1]) and pred[i][2] == (Y_test[i][2]) ):\n",
    "        count = count + 1\n",
    "print('After the predictions has been estimated, the accuracy is ' + str((count/pred.shape[0])*100) + ' %')\n",
    "print('Elapsed time: ' + str(t2-t1))"
   ]
  },
  {
   "cell_type": "code",
   "execution_count": 322,
   "metadata": {},
   "outputs": [
    {
     "data": {
      "text/plain": [
       "0.7039655172413793"
      ]
     },
     "execution_count": 322,
     "metadata": {},
     "output_type": "execute_result"
    }
   ],
   "source": [
    "nn.score(X_test2, Y_test)"
   ]
  },
  {
   "cell_type": "code",
   "execution_count": null,
   "metadata": {},
   "outputs": [],
   "source": []
  },
  {
   "cell_type": "code",
   "execution_count": null,
   "metadata": {},
   "outputs": [],
   "source": []
  },
  {
   "cell_type": "code",
   "execution_count": null,
   "metadata": {},
   "outputs": [],
   "source": []
  },
  {
   "cell_type": "code",
   "execution_count": null,
   "metadata": {},
   "outputs": [],
   "source": []
  },
  {
   "cell_type": "code",
   "execution_count": null,
   "metadata": {},
   "outputs": [],
   "source": []
  },
  {
   "cell_type": "code",
   "execution_count": null,
   "metadata": {},
   "outputs": [],
   "source": []
  },
  {
   "cell_type": "code",
   "execution_count": null,
   "metadata": {},
   "outputs": [],
   "source": []
  },
  {
   "cell_type": "code",
   "execution_count": 149,
   "metadata": {
    "collapsed": true
   },
   "outputs": [
    {
     "name": "stdout",
     "output_type": "stream",
     "text": [
      "Model: \"sequential_15\"\n",
      "_________________________________________________________________\n",
      "Layer (type)                 Output Shape              Param #   \n",
      "=================================================================\n",
      "lstm_34 (LSTM)               (None, 100, 100)          54000     \n",
      "_________________________________________________________________\n",
      "lstm_35 (LSTM)               (None, 100)               80400     \n",
      "_________________________________________________________________\n",
      "dense_14 (Dense)             (None, 3)                 303       \n",
      "=================================================================\n",
      "Total params: 134,703\n",
      "Trainable params: 134,703\n",
      "Non-trainable params: 0\n",
      "_________________________________________________________________\n"
     ]
    }
   ],
   "source": [
    "model = Sequential()\n",
    "model.add(LSTM(100, activation = 'tanh' , return_sequences=True, input_shape=(X.shape[1], X.shape[2]))) #100,34\n",
    "model.add(LSTM(100, ))\n",
    "#model.add(Dropout(0.2))\n",
    "model.add(Dense(Y.shape[1])) #3\n",
    "model.compile(optimizer='adam', loss='mae', metrics = ['accuracy'])\n",
    "model.summary()"
   ]
  },
  {
   "cell_type": "code",
   "execution_count": 150,
   "metadata": {
    "collapsed": true
   },
   "outputs": [
    {
     "name": "stdout",
     "output_type": "stream",
     "text": [
      "Epoch 1/25\n",
      "8/8 [==============================] - 1s 180ms/step - loss: 0.4103 - accuracy: 0.3233 - val_loss: 0.3537 - val_accuracy: 0.4138\n",
      "Epoch 2/25\n",
      "8/8 [==============================] - 1s 89ms/step - loss: 0.3509 - accuracy: 0.4397 - val_loss: 0.3576 - val_accuracy: 0.3966\n",
      "Epoch 3/25\n",
      "8/8 [==============================] - 1s 89ms/step - loss: 0.3472 - accuracy: 0.4655 - val_loss: 0.3486 - val_accuracy: 0.3621\n",
      "Epoch 4/25\n",
      "8/8 [==============================] - 1s 86ms/step - loss: 0.3394 - accuracy: 0.4612 - val_loss: 0.3510 - val_accuracy: 0.4138\n",
      "Epoch 5/25\n",
      "8/8 [==============================] - 1s 88ms/step - loss: 0.3367 - accuracy: 0.4784 - val_loss: 0.3465 - val_accuracy: 0.4310\n",
      "Epoch 6/25\n",
      "8/8 [==============================] - 1s 89ms/step - loss: 0.3358 - accuracy: 0.4612 - val_loss: 0.3503 - val_accuracy: 0.3621\n",
      "Epoch 7/25\n",
      "8/8 [==============================] - 1s 90ms/step - loss: 0.3337 - accuracy: 0.4828 - val_loss: 0.3509 - val_accuracy: 0.3966\n",
      "Epoch 8/25\n",
      "8/8 [==============================] - 1s 89ms/step - loss: 0.3332 - accuracy: 0.4828 - val_loss: 0.3525 - val_accuracy: 0.3966\n",
      "Epoch 9/25\n",
      "8/8 [==============================] - 1s 89ms/step - loss: 0.3303 - accuracy: 0.4914 - val_loss: 0.3588 - val_accuracy: 0.3966\n",
      "Epoch 10/25\n",
      "8/8 [==============================] - 1s 93ms/step - loss: 0.3265 - accuracy: 0.4741 - val_loss: 0.3708 - val_accuracy: 0.3793\n",
      "Epoch 11/25\n",
      "8/8 [==============================] - 1s 93ms/step - loss: 0.3293 - accuracy: 0.5000 - val_loss: 0.3558 - val_accuracy: 0.3966\n",
      "Epoch 12/25\n",
      "8/8 [==============================] - 1s 90ms/step - loss: 0.3282 - accuracy: 0.5000 - val_loss: 0.3633 - val_accuracy: 0.4655\n",
      "Epoch 13/25\n",
      "8/8 [==============================] - 1s 92ms/step - loss: 0.3268 - accuracy: 0.4483 - val_loss: 0.3655 - val_accuracy: 0.3966\n",
      "Epoch 14/25\n",
      "8/8 [==============================] - 1s 92ms/step - loss: 0.3276 - accuracy: 0.4914 - val_loss: 0.3510 - val_accuracy: 0.3793\n",
      "Epoch 15/25\n",
      "8/8 [==============================] - 1s 91ms/step - loss: 0.3255 - accuracy: 0.5216 - val_loss: 0.3639 - val_accuracy: 0.4138\n",
      "Epoch 16/25\n",
      "8/8 [==============================] - 1s 91ms/step - loss: 0.3222 - accuracy: 0.4957 - val_loss: 0.3624 - val_accuracy: 0.3966\n",
      "Epoch 17/25\n",
      "8/8 [==============================] - 1s 92ms/step - loss: 0.3195 - accuracy: 0.5345 - val_loss: 0.3643 - val_accuracy: 0.3966\n",
      "Epoch 18/25\n",
      "8/8 [==============================] - 1s 93ms/step - loss: 0.3250 - accuracy: 0.5603 - val_loss: 0.3566 - val_accuracy: 0.3621\n",
      "Epoch 19/25\n",
      "8/8 [==============================] - 1s 93ms/step - loss: 0.3169 - accuracy: 0.5129 - val_loss: 0.3609 - val_accuracy: 0.4483\n",
      "Epoch 20/25\n",
      "8/8 [==============================] - 1s 92ms/step - loss: 0.3164 - accuracy: 0.5000 - val_loss: 0.3688 - val_accuracy: 0.3621\n",
      "Epoch 21/25\n",
      "8/8 [==============================] - 1s 98ms/step - loss: 0.3323 - accuracy: 0.4828 - val_loss: 0.3615 - val_accuracy: 0.3621\n",
      "Epoch 22/25\n",
      "8/8 [==============================] - 1s 100ms/step - loss: 0.3197 - accuracy: 0.5345 - val_loss: 0.3600 - val_accuracy: 0.3621\n",
      "Epoch 23/25\n",
      "8/8 [==============================] - 1s 103ms/step - loss: 0.3049 - accuracy: 0.5129 - val_loss: 0.3444 - val_accuracy: 0.4310\n",
      "Epoch 24/25\n",
      "8/8 [==============================] - 1s 93ms/step - loss: 0.2937 - accuracy: 0.5388 - val_loss: 0.3518 - val_accuracy: 0.4483\n",
      "Epoch 25/25\n",
      "8/8 [==============================] - 1s 92ms/step - loss: 0.3082 - accuracy: 0.5603 - val_loss: 0.3485 - val_accuracy: 0.5000\n"
     ]
    }
   ],
   "source": [
    "# fit network\n",
    "history = model.fit(X_train, Y_train, epochs=25, validation_data=(X_test, Y_test), verbose=1, shuffle=False)"
   ]
  },
  {
   "cell_type": "code",
   "execution_count": 151,
   "metadata": {},
   "outputs": [
    {
     "data": {
      "image/png": "[encoded data removed]",
      "text/plain": [
       "<Figure size 432x288 with 1 Axes>"
      ]
     },
     "metadata": {
      "needs_background": "light"
     },
     "output_type": "display_data"
    }
   ],
   "source": [
    "# plot history\n",
    "pyplot.plot(history.history['loss'], label='train')\n",
    "pyplot.plot(history.history['val_loss'], label='test')\n",
    "pyplot.plot(history.history['accuracy'], label='accuracy')\n",
    "pyplot.legend()\n",
    "pyplot.show()"
   ]
  },
  {
   "cell_type": "code",
   "execution_count": 137,
   "metadata": {},
   "outputs": [],
   "source": [
    "#print(X_test[0])\n",
    "#check = X_test[0].reshape((1, 100, 34))\n",
    "#print(x_input)"
   ]
  },
  {
   "cell_type": "code",
   "execution_count": 138,
   "metadata": {},
   "outputs": [],
   "source": [
    "#pred = model.predict(check)\n",
    "#print(Y_test[0])\n",
    "#print(pred)"
   ]
  },
  {
   "cell_type": "code",
   "execution_count": 139,
   "metadata": {},
   "outputs": [
    {
     "name": "stdout",
     "output_type": "stream",
     "text": [
      "(58, 3)\n",
      "After the predictions has been estimated, the accuracy is 41.37931034482759 %\n"
     ]
    }
   ],
   "source": [
    "check2 = X_test.reshape((X_test.shape[0], X.shape[1], X.shape[2]))\n",
    "predictions = model.predict(check2)\n",
    "print(predictions.shape)\n",
    "for i in range(predictions.shape[0]):\n",
    "    if (predictions[i][0] >= predictions[i][1] and predictions[i][0] >= predictions[i][2]):\n",
    "        predictions[i] = [1, 0, 0]\n",
    "    elif (predictions[i][1] >= predictions[i][0] and predictions[i][1] >= predictions[i][2]):\n",
    "        predictions[i] = [0, 1, 0]\n",
    "    else:\n",
    "        predictions[i] = [0, 0, 1]\n",
    "\n",
    "\n",
    "        \n",
    "count = 0\n",
    "for i in range(predictions.shape[0]):\n",
    "    if(predictions[i][0] == (Y_test[i][0]) and predictions[i][1] == (Y_test[i][1]) and predictions[i][2] == (Y_test[i][2]) ):\n",
    "        count = count + 1\n",
    "print('After the predictions has been estimated, the accuracy is ' + str((count/predictions.shape[0])*100) + ' %')"
   ]
  },
  {
   "cell_type": "code",
   "execution_count": null,
   "metadata": {},
   "outputs": [],
   "source": []
  },
  {
   "cell_type": "code",
   "execution_count": null,
   "metadata": {},
   "outputs": [],
   "source": []
  },
  {
   "cell_type": "code",
   "execution_count": null,
   "metadata": {},
   "outputs": [],
   "source": []
  }
 ],
 "metadata": {
  "kernelspec": {
   "display_name": "Python 3",
   "language": "python",
   "name": "python3"
  },
  "language_info": {
   "codemirror_mode": {
    "name": "ipython",
    "version": 3
   },
   "file_extension": ".py",
   "mimetype": "text/x-python",
   "name": "python",
   "nbconvert_exporter": "python",
   "pygments_lexer": "ipython3",
   "version": "3.8.3"
  }
 },
 "nbformat": 4,
 "nbformat_minor": 4
}
