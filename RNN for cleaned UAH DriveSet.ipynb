{
 "cells": [
  {
   "cell_type": "code",
   "execution_count": 1,
   "metadata": {},
   "outputs": [],
   "source": [
    "import numpy as np\n",
    "from numpy import array\n",
    "import math\n",
    "\n",
    "import pandas as pd \n",
    "from pandas import DataFrame\n",
    "from pandas import concat\n",
    "from datetime import datetime\n",
    "from keras.models import Sequential, load_model\n",
    "from keras.layers import Dense, Dropout\n",
    "from keras.layers import LSTM\n",
    "from sklearn.preprocessing import LabelEncoder\n",
    "from sklearn.preprocessing import MinMaxScaler\n",
    "from sklearn.model_selection import train_test_split\n",
    "from sklearn.metrics import mean_squared_error\n",
    "from sklearn.neural_network import MLPClassifier\n",
    "\n",
    "import tensorflow as tf\n",
    "import tensorflow.keras.layers as KL\n",
    "\n",
    "from matplotlib import pyplot"
   ]
  },
  {
   "cell_type": "code",
   "execution_count": 2,
   "metadata": {},
   "outputs": [],
   "source": [
    "input_data = pd.read_csv (r'C:/Users/Geraldo Wibowo/Desktop/Year 4/FYP/JUPYTER TEST 1/11_5_2020/input2.csv', index_col = 0)\n",
    "input_data.index.name = 'Timestamp (seconds)'"
   ]
  },
  {
   "cell_type": "code",
   "execution_count": 3,
   "metadata": {},
   "outputs": [],
   "source": [
    "output_data = pd.read_csv (r'C:/Users/Geraldo Wibowo/Desktop/Year 4/FYP/JUPYTER TEST 1/11_5_2020/output2.csv', index_col = 0)\n",
    "output_data.index.name = 'Timestamp (seconds)'"
   ]
  },
  {
   "cell_type": "code",
   "execution_count": 4,
   "metadata": {},
   "outputs": [],
   "source": [
    "#input_data = input_data.iloc[:,1:]\n",
    "#output_data = output_data.iloc[:,1:]"
   ]
  },
  {
   "cell_type": "code",
   "execution_count": 5,
   "metadata": {},
   "outputs": [],
   "source": [
    "split_columns = 1"
   ]
  },
  {
   "cell_type": "code",
   "execution_count": 6,
   "metadata": {},
   "outputs": [
    {
     "name": "stdout",
     "output_type": "stream",
     "text": [
      "(30929, 1)\n",
      "(30929, 1)\n",
      "(30929,)\n"
     ]
    },
    {
     "name": "stderr",
     "output_type": "stream",
     "text": [
      "C:\\Users\\Geraldo Wibowo\\anaconda3\\lib\\site-packages\\sklearn\\utils\\validation.py:73: DataConversionWarning: A column-vector y was passed when a 1d array was expected. Please change the shape of y to (n_samples, ), for example using ravel().\n",
      "  return f(**kwargs)\n"
     ]
    }
   ],
   "source": [
    "output_data2 = np.array(output_data)\n",
    "print(output_data2.shape)\n",
    "\n",
    "Y = list()\n",
    "\n",
    "for i in range((int(split_columns/2)),output_data2.shape[0], split_columns):\n",
    "    Y.append(output_data2[i])\n",
    "\n",
    "Y = array(Y)\n",
    "print(Y.shape)\n",
    "\n",
    "#DECODING Y\n",
    "# integer encode direction\n",
    "encoder = LabelEncoder()\n",
    "Y = encoder.fit_transform(Y)\n",
    "print(Y.shape)"
   ]
  },
  {
   "cell_type": "code",
   "execution_count": 7,
   "metadata": {},
   "outputs": [],
   "source": [
    "#Modifying the output_data to, putting to Y in array\n",
    "#1 0 0 for normal\n",
    "#0 1 0 for drowsy\n",
    "#0 0 1 for aggressive\n",
    "\n",
    "#output_data = np.array(output_data)\n",
    "\n",
    "#Y = list()\n",
    "\n",
    "#for i in range(int(output_data.shape[0]/split_columns)):\n",
    "#    condition = output_data[(i*split_columns)]    \n",
    "#    behavior = []\n",
    "#    if(condition=='DROWSY'):\n",
    "#        behavior = [0,1,0]\n",
    "#    elif(condition=='AGGRESSIVE'):\n",
    "#        behavior = [0,0,1]\n",
    "#    else:\n",
    "#        behavior = [1,0,0]\n",
    "    \n",
    "#    Y.append(behavior)\n",
    "\n",
    "#Y = array(Y)\n",
    "#print(Y.shape)"
   ]
  },
  {
   "cell_type": "code",
   "execution_count": 8,
   "metadata": {},
   "outputs": [
    {
     "name": "stdout",
     "output_type": "stream",
     "text": [
      "(30929, 34)\n",
      "(30929,)\n"
     ]
    }
   ],
   "source": [
    "#min max scaler\n",
    "X = input_data\n",
    "scaler = MinMaxScaler()\n",
    "X = scaler.fit_transform(X)\n",
    "print(X.shape)\n",
    "print(Y.shape)"
   ]
  },
  {
   "cell_type": "code",
   "execution_count": 9,
   "metadata": {},
   "outputs": [],
   "source": [
    "#USE THIS IF MINMAX SCALER IS NOT USED\n",
    "#X = np.array(X)\n",
    "#X = np.reshape(X,(int(X.shape[0]/split_columns),split_columns,X.shape[1]))\n",
    "#print(X.shape)"
   ]
  },
  {
   "cell_type": "code",
   "execution_count": 10,
   "metadata": {},
   "outputs": [
    {
     "name": "stdout",
     "output_type": "stream",
     "text": [
      "(30929, 1, 34)\n"
     ]
    }
   ],
   "source": [
    "#RESHAPING X\n",
    "X = np.reshape(X,(int(X.shape[0]/split_columns),split_columns,X.shape[1]))\n",
    "print(X.shape)"
   ]
  },
  {
   "cell_type": "code",
   "execution_count": 11,
   "metadata": {},
   "outputs": [],
   "source": [
    "#SPLITTING TRAINING AND TEST DATA METHOD 1\n",
    "X_train, X_test, Y_train, Y_test = train_test_split(X, Y, test_size = 0.2, random_state = 4)"
   ]
  },
  {
   "cell_type": "code",
   "execution_count": 12,
   "metadata": {},
   "outputs": [
    {
     "name": "stdout",
     "output_type": "stream",
     "text": [
      "(24743, 1, 34)\n",
      "(6186, 1, 34)\n",
      "(24743,)\n",
      "(6186,)\n"
     ]
    }
   ],
   "source": [
    "#SPLITTING TRAINING AND TEST DATA METHOD 2\n",
    "#X_train = X[:(int(X.shape[0] * 0.8)),:,:]\n",
    "#X_test = X[(int(X.shape[0] * 0.8)):,:,:]\n",
    "print(X_train.shape)\n",
    "print(X_test.shape)\n",
    "#Y_train = Y[:(int(Y.shape[0] * 0.8)),:]\n",
    "#Y_test = Y[(int(Y.shape[0] * 0.8)):,:]\n",
    "print(Y_train.shape)\n",
    "print(Y_test.shape)"
   ]
  },
  {
   "cell_type": "code",
   "execution_count": 13,
   "metadata": {},
   "outputs": [],
   "source": [
    "#MAKING SURE DATA TYPE ARE CORRECT\n",
    "X_train = np.asarray(X_train).astype('float32')\n",
    "Y_train = np.asarray(Y_train).astype('float32')"
   ]
  },
  {
   "cell_type": "code",
   "execution_count": 47,
   "metadata": {},
   "outputs": [],
   "source": [
    "#NEURAL NETWORK"
   ]
  },
  {
   "cell_type": "code",
   "execution_count": 48,
   "metadata": {},
   "outputs": [],
   "source": [
    "#RESHAPING X_TRAIN\n",
    "#nsamples, nx, ny = X_train.shape\n",
    "#X_train2 = X_train.reshape((nsamples,nx*ny))\n",
    "#THIS NUMBER IS THE INPUT LAYER (23200)\n",
    "#print(X_train2.shape)"
   ]
  },
  {
   "cell_type": "code",
   "execution_count": 49,
   "metadata": {},
   "outputs": [],
   "source": [
    "#RESHAPING X_TEST\n",
    "#nsamples, nx, ny = X_test.shape\n",
    "#X_test2 = X_test.reshape((nsamples,nx*ny))"
   ]
  },
  {
   "cell_type": "code",
   "execution_count": 14,
   "metadata": {},
   "outputs": [
    {
     "name": "stdout",
     "output_type": "stream",
     "text": [
      "Tensor(\"input_1:0\", shape=(None, 1, 34), dtype=float32)\n"
     ]
    }
   ],
   "source": [
    "## Model\n",
    "inputs = KL.Input(shape=(split_columns, X_train.shape[2]))\n",
    "print(inputs)"
   ]
  },
  {
   "cell_type": "code",
   "execution_count": 15,
   "metadata": {},
   "outputs": [
    {
     "name": "stdout",
     "output_type": "stream",
     "text": [
      "Tensor(\"simple_rnn/strided_slice_3:0\", shape=(None, 100), dtype=float32)\n"
     ]
    }
   ],
   "source": [
    "# For RNN\n",
    "x = KL.SimpleRNN(100, activation ='relu')(inputs) \n",
    "print(x)"
   ]
  },
  {
   "cell_type": "code",
   "execution_count": 16,
   "metadata": {},
   "outputs": [
    {
     "name": "stdout",
     "output_type": "stream",
     "text": [
      "Tensor(\"dense/Softmax:0\", shape=(None, 3), dtype=float32)\n"
     ]
    }
   ],
   "source": [
    "outputs = KL.Dense(3, activation=\"softmax\")(x)\n",
    "print(outputs)"
   ]
  },
  {
   "cell_type": "code",
   "execution_count": 17,
   "metadata": {},
   "outputs": [
    {
     "name": "stdout",
     "output_type": "stream",
     "text": [
      "Model: \"functional_1\"\n",
      "_________________________________________________________________\n",
      "Layer (type)                 Output Shape              Param #   \n",
      "=================================================================\n",
      "input_1 (InputLayer)         [(None, 1, 34)]           0         \n",
      "_________________________________________________________________\n",
      "simple_rnn (SimpleRNN)       (None, 100)               13500     \n",
      "_________________________________________________________________\n",
      "dense (Dense)                (None, 3)                 303       \n",
      "=================================================================\n",
      "Total params: 13,803\n",
      "Trainable params: 13,803\n",
      "Non-trainable params: 0\n",
      "_________________________________________________________________\n"
     ]
    }
   ],
   "source": [
    "model = tf.keras.models.Model(inputs, outputs)\n",
    "model.summary()"
   ]
  },
  {
   "cell_type": "code",
   "execution_count": 18,
   "metadata": {},
   "outputs": [
    {
     "name": "stdout",
     "output_type": "stream",
     "text": [
      "Epoch 1/100\n",
      "774/774 [==============================] - 1s 1ms/step - loss: 0.9487 - acc: 0.5096\n",
      "Epoch 2/100\n",
      "774/774 [==============================] - 1s 1ms/step - loss: 0.8344 - acc: 0.5771\n",
      "Epoch 3/100\n",
      "774/774 [==============================] - 1s 1ms/step - loss: 0.7805 - acc: 0.6010\n",
      "Epoch 4/100\n",
      "774/774 [==============================] - 1s 1ms/step - loss: 0.7442 - acc: 0.6269\n",
      "Epoch 5/100\n",
      "774/774 [==============================] - 1s 1ms/step - loss: 0.7178 - acc: 0.6429\n",
      "Epoch 6/100\n",
      "774/774 [==============================] - 1s 1ms/step - loss: 0.6950 - acc: 0.6617\n",
      "Epoch 7/100\n",
      "774/774 [==============================] - 1s 1ms/step - loss: 0.6790 - acc: 0.6706\n",
      "Epoch 8/100\n",
      "774/774 [==============================] - 1s 1ms/step - loss: 0.6618 - acc: 0.6833\n",
      "Epoch 9/100\n",
      "774/774 [==============================] - 1s 1ms/step - loss: 0.6450 - acc: 0.6927\n",
      "Epoch 10/100\n",
      "774/774 [==============================] - 1s 1ms/step - loss: 0.6299 - acc: 0.7008\n",
      "Epoch 11/100\n",
      "774/774 [==============================] - 1s 1ms/step - loss: 0.6148 - acc: 0.7126\n",
      "Epoch 12/100\n",
      "774/774 [==============================] - 1s 1ms/step - loss: 0.6037 - acc: 0.7180\n",
      "Epoch 13/100\n",
      "774/774 [==============================] - 1s 1ms/step - loss: 0.5901 - acc: 0.7263\n",
      "Epoch 14/100\n",
      "774/774 [==============================] - 1s 1ms/step - loss: 0.5791 - acc: 0.7309\n",
      "Epoch 15/100\n",
      "774/774 [==============================] - 1s 1ms/step - loss: 0.5697 - acc: 0.7390\n",
      "Epoch 16/100\n",
      "774/774 [==============================] - 1s 1ms/step - loss: 0.5611 - acc: 0.7398\n",
      "Epoch 17/100\n",
      "774/774 [==============================] - 1s 1ms/step - loss: 0.5515 - acc: 0.7463\n",
      "Epoch 18/100\n",
      "774/774 [==============================] - 1s 1ms/step - loss: 0.5457 - acc: 0.7480\n",
      "Epoch 19/100\n",
      "774/774 [==============================] - 1s 1ms/step - loss: 0.5392 - acc: 0.7520\n",
      "Epoch 20/100\n",
      "774/774 [==============================] - 1s 1ms/step - loss: 0.5302 - acc: 0.7557\n",
      "Epoch 21/100\n",
      "774/774 [==============================] - 1s 1ms/step - loss: 0.5254 - acc: 0.7598\n",
      "Epoch 22/100\n",
      "774/774 [==============================] - 1s 1ms/step - loss: 0.5168 - acc: 0.7629\n",
      "Epoch 23/100\n",
      "774/774 [==============================] - 1s 1ms/step - loss: 0.5116 - acc: 0.7645\n",
      "Epoch 24/100\n",
      "774/774 [==============================] - 1s 1ms/step - loss: 0.5070 - acc: 0.7678\n",
      "Epoch 25/100\n",
      "774/774 [==============================] - 1s 2ms/step - loss: 0.5035 - acc: 0.7698\n",
      "Epoch 26/100\n",
      "774/774 [==============================] - 1s 1ms/step - loss: 0.4956 - acc: 0.7717\n",
      "Epoch 27/100\n",
      "774/774 [==============================] - 1s 1ms/step - loss: 0.4923 - acc: 0.7785\n",
      "Epoch 28/100\n",
      "774/774 [==============================] - 1s 1ms/step - loss: 0.4871 - acc: 0.7792\n",
      "Epoch 29/100\n",
      "774/774 [==============================] - 1s 1ms/step - loss: 0.4813 - acc: 0.7797\n",
      "Epoch 30/100\n",
      "774/774 [==============================] - 1s 1ms/step - loss: 0.4769 - acc: 0.7852\n",
      "Epoch 31/100\n",
      "774/774 [==============================] - 1s 1ms/step - loss: 0.4750 - acc: 0.7840\n",
      "Epoch 32/100\n",
      "774/774 [==============================] - 1s 2ms/step - loss: 0.4675 - acc: 0.7883\n",
      "Epoch 33/100\n",
      "774/774 [==============================] - 1s 1ms/step - loss: 0.4652 - acc: 0.7899\n",
      "Epoch 34/100\n",
      "774/774 [==============================] - 1s 1ms/step - loss: 0.4606 - acc: 0.7916\n",
      "Epoch 35/100\n",
      "774/774 [==============================] - 1s 1ms/step - loss: 0.4608 - acc: 0.7935\n",
      "Epoch 36/100\n",
      "774/774 [==============================] - 1s 1ms/step - loss: 0.4535 - acc: 0.7959\n",
      "Epoch 37/100\n",
      "774/774 [==============================] - 1s 1ms/step - loss: 0.4512 - acc: 0.7939\n",
      "Epoch 38/100\n",
      "774/774 [==============================] - 1s 1ms/step - loss: 0.4470 - acc: 0.7991\n",
      "Epoch 39/100\n",
      "774/774 [==============================] - 1s 1ms/step - loss: 0.4445 - acc: 0.8026\n",
      "Epoch 40/100\n",
      "774/774 [==============================] - 1s 1ms/step - loss: 0.4418 - acc: 0.8018\n",
      "Epoch 41/100\n",
      "774/774 [==============================] - 1s 1ms/step - loss: 0.4408 - acc: 0.8006\n",
      "Epoch 42/100\n",
      "774/774 [==============================] - 1s 1ms/step - loss: 0.4372 - acc: 0.8040\n",
      "Epoch 43/100\n",
      "774/774 [==============================] - 1s 1ms/step - loss: 0.4335 - acc: 0.8057\n",
      "Epoch 44/100\n",
      "774/774 [==============================] - 1s 1ms/step - loss: 0.4330 - acc: 0.8069A: 0s - loss: 0.\n",
      "Epoch 45/100\n",
      "774/774 [==============================] - 1s 1ms/step - loss: 0.4255 - acc: 0.8100\n",
      "Epoch 46/100\n",
      "774/774 [==============================] - 1s 1ms/step - loss: 0.4245 - acc: 0.8111\n",
      "Epoch 47/100\n",
      "774/774 [==============================] - 1s 1ms/step - loss: 0.4224 - acc: 0.8124\n",
      "Epoch 48/100\n",
      "774/774 [==============================] - 1s 1ms/step - loss: 0.4189 - acc: 0.8155\n",
      "Epoch 49/100\n",
      "774/774 [==============================] - 1s 1ms/step - loss: 0.4174 - acc: 0.8174\n",
      "Epoch 50/100\n",
      "774/774 [==============================] - 1s 1ms/step - loss: 0.4152 - acc: 0.8159\n",
      "Epoch 51/100\n",
      "774/774 [==============================] - 1s 1ms/step - loss: 0.4157 - acc: 0.8161\n",
      "Epoch 52/100\n",
      "774/774 [==============================] - 1s 1ms/step - loss: 0.4107 - acc: 0.8181\n",
      "Epoch 53/100\n",
      "774/774 [==============================] - 1s 1ms/step - loss: 0.4097 - acc: 0.8182\n",
      "Epoch 54/100\n",
      "774/774 [==============================] - 1s 2ms/step - loss: 0.4060 - acc: 0.8207\n",
      "Epoch 55/100\n",
      "774/774 [==============================] - 1s 2ms/step - loss: 0.4080 - acc: 0.8182\n",
      "Epoch 56/100\n",
      "774/774 [==============================] - 1s 1ms/step - loss: 0.4009 - acc: 0.8253\n",
      "Epoch 57/100\n",
      "774/774 [==============================] - 1s 1ms/step - loss: 0.3983 - acc: 0.8262\n",
      "Epoch 58/100\n",
      "774/774 [==============================] - 1s 1ms/step - loss: 0.3987 - acc: 0.8240\n",
      "Epoch 59/100\n",
      "774/774 [==============================] - 1s 1ms/step - loss: 0.3952 - acc: 0.8249\n",
      "Epoch 60/100\n",
      "774/774 [==============================] - 1s 1ms/step - loss: 0.3923 - acc: 0.8287\n",
      "Epoch 61/100\n",
      "774/774 [==============================] - 1s 1ms/step - loss: 0.3908 - acc: 0.8269\n",
      "Epoch 62/100\n",
      "774/774 [==============================] - 1s 2ms/step - loss: 0.3891 - acc: 0.8286\n",
      "Epoch 63/100\n",
      "774/774 [==============================] - 1s 1ms/step - loss: 0.3890 - acc: 0.8316\n",
      "Epoch 64/100\n",
      "774/774 [==============================] - 1s 1ms/step - loss: 0.3839 - acc: 0.8341\n",
      "Epoch 65/100\n",
      "774/774 [==============================] - 1s 1ms/step - loss: 0.3839 - acc: 0.8336\n",
      "Epoch 66/100\n",
      "774/774 [==============================] - 1s 1ms/step - loss: 0.3860 - acc: 0.8308\n",
      "Epoch 67/100\n",
      "774/774 [==============================] - 1s 1ms/step - loss: 0.3808 - acc: 0.8354\n",
      "Epoch 68/100\n",
      "774/774 [==============================] - 1s 1ms/step - loss: 0.3782 - acc: 0.8343\n",
      "Epoch 69/100\n",
      "774/774 [==============================] - 1s 2ms/step - loss: 0.3796 - acc: 0.8336\n",
      "Epoch 70/100\n",
      "774/774 [==============================] - 1s 2ms/step - loss: 0.3758 - acc: 0.8355\n",
      "Epoch 71/100\n",
      "774/774 [==============================] - 1s 1ms/step - loss: 0.3745 - acc: 0.8355\n",
      "Epoch 72/100\n",
      "774/774 [==============================] - 1s 1ms/step - loss: 0.3763 - acc: 0.8361\n",
      "Epoch 73/100\n",
      "774/774 [==============================] - 1s 1ms/step - loss: 0.3687 - acc: 0.8416\n",
      "Epoch 74/100\n",
      "774/774 [==============================] - 1s 2ms/step - loss: 0.3692 - acc: 0.8391\n",
      "Epoch 75/100\n",
      "774/774 [==============================] - 1s 1ms/step - loss: 0.3684 - acc: 0.8373\n",
      "Epoch 76/100\n",
      "774/774 [==============================] - 1s 1ms/step - loss: 0.3644 - acc: 0.8420\n",
      "Epoch 77/100\n",
      "774/774 [==============================] - 1s 1ms/step - loss: 0.3642 - acc: 0.8438\n",
      "Epoch 78/100\n",
      "774/774 [==============================] - 1s 2ms/step - loss: 0.3646 - acc: 0.8411\n",
      "Epoch 79/100\n",
      "774/774 [==============================] - 1s 1ms/step - loss: 0.3624 - acc: 0.8413\n",
      "Epoch 80/100\n",
      "774/774 [==============================] - 1s 2ms/step - loss: 0.3576 - acc: 0.8464\n",
      "Epoch 81/100\n",
      "774/774 [==============================] - 1s 2ms/step - loss: 0.3603 - acc: 0.8441A: 1s - los\n",
      "Epoch 82/100\n",
      "774/774 [==============================] - 1s 2ms/step - loss: 0.3598 - acc: 0.8449\n",
      "Epoch 83/100\n",
      "774/774 [==============================] - 1s 1ms/step - loss: 0.3570 - acc: 0.8448\n",
      "Epoch 84/100\n",
      "774/774 [==============================] - 1s 2ms/step - loss: 0.3585 - acc: 0.8431\n",
      "Epoch 85/100\n",
      "774/774 [==============================] - 1s 2ms/step - loss: 0.3536 - acc: 0.8498\n",
      "Epoch 86/100\n",
      "774/774 [==============================] - 1s 2ms/step - loss: 0.3525 - acc: 0.8484\n",
      "Epoch 87/100\n",
      "774/774 [==============================] - 1s 1ms/step - loss: 0.3525 - acc: 0.8463\n",
      "Epoch 88/100\n",
      "774/774 [==============================] - 1s 1ms/step - loss: 0.3538 - acc: 0.8466\n",
      "Epoch 89/100\n",
      "774/774 [==============================] - 1s 2ms/step - loss: 0.3499 - acc: 0.8482\n",
      "Epoch 90/100\n",
      "774/774 [==============================] - 1s 2ms/step - loss: 0.3481 - acc: 0.8488\n",
      "Epoch 91/100\n",
      "774/774 [==============================] - 1s 2ms/step - loss: 0.3476 - acc: 0.8506\n",
      "Epoch 92/100\n",
      "774/774 [==============================] - 1s 2ms/step - loss: 0.3457 - acc: 0.8497\n",
      "Epoch 93/100\n",
      "774/774 [==============================] - 1s 2ms/step - loss: 0.3442 - acc: 0.8525\n",
      "Epoch 94/100\n",
      "774/774 [==============================] - 1s 2ms/step - loss: 0.3400 - acc: 0.8546\n",
      "Epoch 95/100\n",
      "774/774 [==============================] - 1s 2ms/step - loss: 0.3423 - acc: 0.8528\n",
      "Epoch 96/100\n",
      "774/774 [==============================] - 1s 1ms/step - loss: 0.3389 - acc: 0.8559\n",
      "Epoch 97/100\n",
      "774/774 [==============================] - 1s 2ms/step - loss: 0.3408 - acc: 0.8542\n",
      "Epoch 98/100\n",
      "774/774 [==============================] - 1s 2ms/step - loss: 0.3388 - acc: 0.8545\n",
      "Epoch 99/100\n",
      "774/774 [==============================] - 1s 1ms/step - loss: 0.3394 - acc: 0.8552\n",
      "Epoch 100/100\n",
      "774/774 [==============================] - 1s 1ms/step - loss: 0.3409 - acc: 0.8538\n"
     ]
    }
   ],
   "source": [
    "model.compile(optimizer=\"adam\",\n",
    "                loss=\"sparse_categorical_crossentropy\",\n",
    "                metrics=[\"acc\"])\n",
    "history = model.fit(X_train, Y_train, epochs=100)"
   ]
  },
  {
   "cell_type": "code",
   "execution_count": 19,
   "metadata": {},
   "outputs": [
    {
     "name": "stdout",
     "output_type": "stream",
     "text": [
      "194/194 [==============================] - 0s 905us/step - loss: 0.3423 - acc: 0.8474\n",
      "Loss: 0.34228432178497314 - Acc: 0.8473973274230957\n"
     ]
    }
   ],
   "source": [
    "test_loss, test_acc = model.evaluate(X_test, Y_test)\n",
    "print(\"Loss: {0} - Acc: {1}\".format(test_loss, test_acc))"
   ]
  },
  {
   "cell_type": "code",
   "execution_count": 20,
   "metadata": {},
   "outputs": [
    {
     "data": {
      "image/png": "[encoded data removed]",
      "text/plain": [
       "<Figure size 432x288 with 1 Axes>"
      ]
     },
     "metadata": {
      "needs_background": "light"
     },
     "output_type": "display_data"
    }
   ],
   "source": [
    "# plot history\n",
    "pyplot.plot(history.history['loss'], label='train')\n",
    "pyplot.plot(history.history['acc'], label='accuracy')\n",
    "pyplot.legend()\n",
    "pyplot.show()"
   ]
  },
  {
   "cell_type": "code",
   "execution_count": null,
   "metadata": {},
   "outputs": [],
   "source": []
  },
  {
   "cell_type": "code",
   "execution_count": null,
   "metadata": {},
   "outputs": [],
   "source": []
  },
  {
   "cell_type": "code",
   "execution_count": null,
   "metadata": {},
   "outputs": [],
   "source": []
  },
  {
   "cell_type": "code",
   "execution_count": 325,
   "metadata": {},
   "outputs": [],
   "source": [
    "#calling the neural network function, choose activation, solver, hidden layer, randomize data \n",
    "nn=MLPClassifier(activation='relu',solver='adam',hidden_layer_sizes=(200,200,200),random_state=1,verbose = 1)"
   ]
  },
  {
   "cell_type": "code",
   "execution_count": 326,
   "metadata": {},
   "outputs": [
    {
     "name": "stdout",
     "output_type": "stream",
     "text": [
      "start time: 2020-11-10 02:41:37.925546\n",
      "Iteration 1, loss = 3.76620443\n",
      "Iteration 2, loss = 1.67995336\n",
      "Iteration 3, loss = 1.60279520\n",
      "Iteration 4, loss = 1.58136921\n",
      "Iteration 5, loss = 1.48383832\n"
     ]
    },
    {
     "name": "stderr",
     "output_type": "stream",
     "text": [
      "C:\\Users\\Geraldo Wibowo\\anaconda3\\lib\\site-packages\\sklearn\\neural_network\\_multilayer_perceptron.py:587: UserWarning: Training interrupted by user.\n",
      "  warnings.warn(\"Training interrupted by user.\")\n"
     ]
    },
    {
     "data": {
      "text/plain": [
       "MLPClassifier(hidden_layer_sizes=(200, 200, 200), random_state=1, verbose=3)"
      ]
     },
     "execution_count": 326,
     "metadata": {},
     "output_type": "execute_result"
    }
   ],
   "source": [
    "t1= datetime.now()\n",
    "print('start time: ' + str(t1))\n",
    "nn.fit(X_train2,Y_train)"
   ]
  },
  {
   "cell_type": "code",
   "execution_count": 327,
   "metadata": {},
   "outputs": [],
   "source": [
    "pred=nn.predict(X_test2)\n",
    "t2= datetime.now()"
   ]
  },
  {
   "cell_type": "code",
   "execution_count": 328,
   "metadata": {},
   "outputs": [
    {
     "name": "stdout",
     "output_type": "stream",
     "text": [
      "After the predictions has been estimated, the accuracy is 39.706896551724135 %\n",
      "Elapsed time: 0:00:04.126958\n"
     ]
    }
   ],
   "source": [
    "count=0\n",
    "\n",
    "for i in range(len(pred)):\n",
    "    if(pred[i][0] == (Y_test[i][0]) and pred[i][1] == (Y_test[i][1]) and pred[i][2] == (Y_test[i][2]) ):\n",
    "        count = count + 1\n",
    "print('After the predictions has been estimated, the accuracy is ' + str((count/pred.shape[0])*100) + ' %')\n",
    "print('Elapsed time: ' + str(t2-t1))"
   ]
  },
  {
   "cell_type": "code",
   "execution_count": 322,
   "metadata": {},
   "outputs": [
    {
     "data": {
      "text/plain": [
       "0.7039655172413793"
      ]
     },
     "execution_count": 322,
     "metadata": {},
     "output_type": "execute_result"
    }
   ],
   "source": [
    "nn.score(X_test2, Y_test)"
   ]
  },
  {
   "cell_type": "code",
   "execution_count": null,
   "metadata": {},
   "outputs": [],
   "source": []
  },
  {
   "cell_type": "code",
   "execution_count": null,
   "metadata": {},
   "outputs": [],
   "source": []
  },
  {
   "cell_type": "code",
   "execution_count": null,
   "metadata": {},
   "outputs": [],
   "source": []
  },
  {
   "cell_type": "code",
   "execution_count": null,
   "metadata": {},
   "outputs": [],
   "source": []
  },
  {
   "cell_type": "code",
   "execution_count": null,
   "metadata": {},
   "outputs": [],
   "source": []
  },
  {
   "cell_type": "code",
   "execution_count": null,
   "metadata": {},
   "outputs": [],
   "source": []
  },
  {
   "cell_type": "code",
   "execution_count": null,
   "metadata": {},
   "outputs": [],
   "source": []
  },
  {
   "cell_type": "code",
   "execution_count": 149,
   "metadata": {
    "collapsed": true
   },
   "outputs": [
    {
     "name": "stdout",
     "output_type": "stream",
     "text": [
      "Model: \"sequential_15\"\n",
      "_________________________________________________________________\n",
      "Layer (type)                 Output Shape              Param #   \n",
      "=================================================================\n",
      "lstm_34 (LSTM)               (None, 100, 100)          54000     \n",
      "_________________________________________________________________\n",
      "lstm_35 (LSTM)               (None, 100)               80400     \n",
      "_________________________________________________________________\n",
      "dense_14 (Dense)             (None, 3)                 303       \n",
      "=================================================================\n",
      "Total params: 134,703\n",
      "Trainable params: 134,703\n",
      "Non-trainable params: 0\n",
      "_________________________________________________________________\n"
     ]
    }
   ],
   "source": [
    "model = Sequential()\n",
    "model.add(LSTM(100, activation = 'tanh' , return_sequences=True, input_shape=(X.shape[1], X.shape[2]))) #100,34\n",
    "model.add(LSTM(100, ))\n",
    "#model.add(Dropout(0.2))\n",
    "model.add(Dense(Y.shape[1])) #3\n",
    "model.compile(optimizer='adam', loss='mae', metrics = ['accuracy'])\n",
    "model.summary()"
   ]
  },
  {
   "cell_type": "code",
   "execution_count": 150,
   "metadata": {
    "collapsed": true
   },
   "outputs": [
    {
     "name": "stdout",
     "output_type": "stream",
     "text": [
      "Epoch 1/25\n",
      "8/8 [==============================] - 1s 180ms/step - loss: 0.4103 - accuracy: 0.3233 - val_loss: 0.3537 - val_accuracy: 0.4138\n",
      "Epoch 2/25\n",
      "8/8 [==============================] - 1s 89ms/step - loss: 0.3509 - accuracy: 0.4397 - val_loss: 0.3576 - val_accuracy: 0.3966\n",
      "Epoch 3/25\n",
      "8/8 [==============================] - 1s 89ms/step - loss: 0.3472 - accuracy: 0.4655 - val_loss: 0.3486 - val_accuracy: 0.3621\n",
      "Epoch 4/25\n",
      "8/8 [==============================] - 1s 86ms/step - loss: 0.3394 - accuracy: 0.4612 - val_loss: 0.3510 - val_accuracy: 0.4138\n",
      "Epoch 5/25\n",
      "8/8 [==============================] - 1s 88ms/step - loss: 0.3367 - accuracy: 0.4784 - val_loss: 0.3465 - val_accuracy: 0.4310\n",
      "Epoch 6/25\n",
      "8/8 [==============================] - 1s 89ms/step - loss: 0.3358 - accuracy: 0.4612 - val_loss: 0.3503 - val_accuracy: 0.3621\n",
      "Epoch 7/25\n",
      "8/8 [==============================] - 1s 90ms/step - loss: 0.3337 - accuracy: 0.4828 - val_loss: 0.3509 - val_accuracy: 0.3966\n",
      "Epoch 8/25\n",
      "8/8 [==============================] - 1s 89ms/step - loss: 0.3332 - accuracy: 0.4828 - val_loss: 0.3525 - val_accuracy: 0.3966\n",
      "Epoch 9/25\n",
      "8/8 [==============================] - 1s 89ms/step - loss: 0.3303 - accuracy: 0.4914 - val_loss: 0.3588 - val_accuracy: 0.3966\n",
      "Epoch 10/25\n",
      "8/8 [==============================] - 1s 93ms/step - loss: 0.3265 - accuracy: 0.4741 - val_loss: 0.3708 - val_accuracy: 0.3793\n",
      "Epoch 11/25\n",
      "8/8 [==============================] - 1s 93ms/step - loss: 0.3293 - accuracy: 0.5000 - val_loss: 0.3558 - val_accuracy: 0.3966\n",
      "Epoch 12/25\n",
      "8/8 [==============================] - 1s 90ms/step - loss: 0.3282 - accuracy: 0.5000 - val_loss: 0.3633 - val_accuracy: 0.4655\n",
      "Epoch 13/25\n",
      "8/8 [==============================] - 1s 92ms/step - loss: 0.3268 - accuracy: 0.4483 - val_loss: 0.3655 - val_accuracy: 0.3966\n",
      "Epoch 14/25\n",
      "8/8 [==============================] - 1s 92ms/step - loss: 0.3276 - accuracy: 0.4914 - val_loss: 0.3510 - val_accuracy: 0.3793\n",
      "Epoch 15/25\n",
      "8/8 [==============================] - 1s 91ms/step - loss: 0.3255 - accuracy: 0.5216 - val_loss: 0.3639 - val_accuracy: 0.4138\n",
      "Epoch 16/25\n",
      "8/8 [==============================] - 1s 91ms/step - loss: 0.3222 - accuracy: 0.4957 - val_loss: 0.3624 - val_accuracy: 0.3966\n",
      "Epoch 17/25\n",
      "8/8 [==============================] - 1s 92ms/step - loss: 0.3195 - accuracy: 0.5345 - val_loss: 0.3643 - val_accuracy: 0.3966\n",
      "Epoch 18/25\n",
      "8/8 [==============================] - 1s 93ms/step - loss: 0.3250 - accuracy: 0.5603 - val_loss: 0.3566 - val_accuracy: 0.3621\n",
      "Epoch 19/25\n",
      "8/8 [==============================] - 1s 93ms/step - loss: 0.3169 - accuracy: 0.5129 - val_loss: 0.3609 - val_accuracy: 0.4483\n",
      "Epoch 20/25\n",
      "8/8 [==============================] - 1s 92ms/step - loss: 0.3164 - accuracy: 0.5000 - val_loss: 0.3688 - val_accuracy: 0.3621\n",
      "Epoch 21/25\n",
      "8/8 [==============================] - 1s 98ms/step - loss: 0.3323 - accuracy: 0.4828 - val_loss: 0.3615 - val_accuracy: 0.3621\n",
      "Epoch 22/25\n",
      "8/8 [==============================] - 1s 100ms/step - loss: 0.3197 - accuracy: 0.5345 - val_loss: 0.3600 - val_accuracy: 0.3621\n",
      "Epoch 23/25\n",
      "8/8 [==============================] - 1s 103ms/step - loss: 0.3049 - accuracy: 0.5129 - val_loss: 0.3444 - val_accuracy: 0.4310\n",
      "Epoch 24/25\n",
      "8/8 [==============================] - 1s 93ms/step - loss: 0.2937 - accuracy: 0.5388 - val_loss: 0.3518 - val_accuracy: 0.4483\n",
      "Epoch 25/25\n",
      "8/8 [==============================] - 1s 92ms/step - loss: 0.3082 - accuracy: 0.5603 - val_loss: 0.3485 - val_accuracy: 0.5000\n"
     ]
    }
   ],
   "source": [
    "# fit network\n",
    "history = model.fit(X_train, Y_train, epochs=25, validation_data=(X_test, Y_test), verbose=1, shuffle=False)"
   ]
  },
  {
   "cell_type": "code",
   "execution_count": 151,
   "metadata": {},
   "outputs": [
    {
     "data": {
      "image/png": "[encoded data removed]",
      "text/plain": [
       "<Figure size 432x288 with 1 Axes>"
      ]
     },
     "metadata": {
      "needs_background": "light"
     },
     "output_type": "display_data"
    }
   ],
   "source": [
    "# plot history\n",
    "pyplot.plot(history.history['loss'], label='train')\n",
    "pyplot.plot(history.history['val_loss'], label='test')\n",
    "pyplot.plot(history.history['accuracy'], label='accuracy')\n",
    "pyplot.legend()\n",
    "pyplot.show()"
   ]
  },
  {
   "cell_type": "code",
   "execution_count": 137,
   "metadata": {},
   "outputs": [],
   "source": [
    "#print(X_test[0])\n",
    "#check = X_test[0].reshape((1, 100, 34))\n",
    "#print(x_input)"
   ]
  },
  {
   "cell_type": "code",
   "execution_count": 138,
   "metadata": {},
   "outputs": [],
   "source": [
    "#pred = model.predict(check)\n",
    "#print(Y_test[0])\n",
    "#print(pred)"
   ]
  },
  {
   "cell_type": "code",
   "execution_count": 139,
   "metadata": {},
   "outputs": [
    {
     "name": "stdout",
     "output_type": "stream",
     "text": [
      "(58, 3)\n",
      "After the predictions has been estimated, the accuracy is 41.37931034482759 %\n"
     ]
    }
   ],
   "source": [
    "check2 = X_test.reshape((X_test.shape[0], X.shape[1], X.shape[2]))\n",
    "predictions = model.predict(check2)\n",
    "print(predictions.shape)\n",
    "for i in range(predictions.shape[0]):\n",
    "    if (predictions[i][0] >= predictions[i][1] and predictions[i][0] >= predictions[i][2]):\n",
    "        predictions[i] = [1, 0, 0]\n",
    "    elif (predictions[i][1] >= predictions[i][0] and predictions[i][1] >= predictions[i][2]):\n",
    "        predictions[i] = [0, 1, 0]\n",
    "    else:\n",
    "        predictions[i] = [0, 0, 1]\n",
    "\n",
    "\n",
    "        \n",
    "count = 0\n",
    "for i in range(predictions.shape[0]):\n",
    "    if(predictions[i][0] == (Y_test[i][0]) and predictions[i][1] == (Y_test[i][1]) and predictions[i][2] == (Y_test[i][2]) ):\n",
    "        count = count + 1\n",
    "print('After the predictions has been estimated, the accuracy is ' + str((count/predictions.shape[0])*100) + ' %')"
   ]
  },
  {
   "cell_type": "code",
   "execution_count": null,
   "metadata": {},
   "outputs": [],
   "source": []
  },
  {
   "cell_type": "code",
   "execution_count": null,
   "metadata": {},
   "outputs": [],
   "source": []
  },
  {
   "cell_type": "code",
   "execution_count": null,
   "metadata": {},
   "outputs": [],
   "source": []
  }
 ],
 "metadata": {
  "kernelspec": {
   "display_name": "Python 3",
   "language": "python",
   "name": "python3"
  },
  "language_info": {
   "codemirror_mode": {
    "name": "ipython",
    "version": 3
   },
   "file_extension": ".py",
   "mimetype": "text/x-python",
   "name": "python",
   "nbconvert_exporter": "python",
   "pygments_lexer": "ipython3",
   "version": "3.8.3"
  }
 },
 "nbformat": 4,
 "nbformat_minor": 4
}
