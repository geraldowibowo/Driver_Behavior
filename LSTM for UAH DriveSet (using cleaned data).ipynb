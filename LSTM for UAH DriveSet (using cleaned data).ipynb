{
 "cells": [
  {
   "cell_type": "code",
   "execution_count": 1,
   "metadata": {},
   "outputs": [],
   "source": [
    "import numpy as np\n",
    "from numpy import array\n",
    "import math\n",
    "\n",
    "import pandas as pd \n",
    "from pandas import DataFrame\n",
    "from pandas import concat\n",
    "from datetime import datetime\n",
    "from keras.models import Sequential, load_model\n",
    "from keras.layers import Dense, Dropout\n",
    "from keras.layers import LSTM\n",
    "from sklearn.preprocessing import LabelEncoder\n",
    "from sklearn.preprocessing import MinMaxScaler\n",
    "from sklearn.model_selection import train_test_split\n",
    "from sklearn.metrics import mean_squared_error\n",
    "\n",
    "from matplotlib import pyplot"
   ]
  },
  {
   "cell_type": "code",
   "execution_count": 2,
   "metadata": {},
   "outputs": [],
   "source": [
    "#LOADING DATA\n",
    "#input_data = pd.read_csv (r'C:/Users/Geraldo Wibowo/Desktop/Year 4/FYP/JUPYTER TEST 1/11_5_2020/input.csv')\n",
    "#output_data = pd.read_csv (r'C:/Users/Geraldo Wibowo/Desktop/Year 4/FYP/JUPYTER TEST 1/11_5_2020/output.csv')"
   ]
  },
  {
   "cell_type": "code",
   "execution_count": 3,
   "metadata": {},
   "outputs": [],
   "source": [
    "input_data = pd.read_csv (r'C:/Users/Geraldo Wibowo/Desktop/Year 4/FYP/JUPYTER TEST 1/11_5_2020/input2.csv', index_col = 0)\n",
    "input_data.index.name = 'Timestamp (seconds)'\n",
    "#input_data = input_data.iloc[:,:1]\n",
    "#print(input_data)"
   ]
  },
  {
   "cell_type": "code",
   "execution_count": 4,
   "metadata": {},
   "outputs": [],
   "source": [
    "output_data = pd.read_csv (r'C:/Users/Geraldo Wibowo/Desktop/Year 4/FYP/JUPYTER TEST 1/11_5_2020/output2.csv', index_col = 0)\n",
    "output_data.index.name = 'Timestamp (seconds)'"
   ]
  },
  {
   "cell_type": "code",
   "execution_count": null,
   "metadata": {},
   "outputs": [],
   "source": []
  },
  {
   "cell_type": "code",
   "execution_count": null,
   "metadata": {},
   "outputs": [],
   "source": []
  },
  {
   "cell_type": "code",
   "execution_count": 111,
   "metadata": {},
   "outputs": [],
   "source": [
    "#input_data = input_data.iloc[:,1:]\n",
    "#output_data = output_data.iloc[:,1:]"
   ]
  },
  {
   "cell_type": "code",
   "execution_count": 10,
   "metadata": {},
   "outputs": [],
   "source": [
    "split_columns = 1"
   ]
  },
  {
   "cell_type": "code",
   "execution_count": 113,
   "metadata": {},
   "outputs": [],
   "source": [
    "#output_data = np.array(output_data)\n",
    "#print(output_data.shape)\n",
    "\n",
    "#output_data = np.array(output_data)\n",
    "\n",
    "#Y = list()\n",
    "\n",
    "#for i in range((int(split_columns/2)),output_data.shape[0], split_columns):\n",
    "#    Y.append(output_data[i])\n",
    "\n",
    "#Y = array(Y)\n",
    "#print(Y.shape)\n",
    "\n",
    "#DECODING Y\n",
    "# integer encode direction\n",
    "#encoder = LabelEncoder()\n",
    "#Y = encoder.fit_transform(Y)\n",
    "#print(Y.shape)\n",
    "\n"
   ]
  },
  {
   "cell_type": "code",
   "execution_count": 11,
   "metadata": {},
   "outputs": [
    {
     "name": "stdout",
     "output_type": "stream",
     "text": [
      "(30929, 3)\n"
     ]
    }
   ],
   "source": [
    "#Modifying the output_data to, putting to Y in array\n",
    "#1 0 0 for normal\n",
    "#0 1 0 for drowsy\n",
    "#0 0 1 for aggressive\n",
    "\n",
    "output_data = np.array(output_data)\n",
    "\n",
    "Y = list()\n",
    "\n",
    "for i in range(int(output_data.shape[0]/split_columns)):\n",
    "    condition = output_data[(i*split_columns)]    \n",
    "    behavior = []\n",
    "    if(condition=='DROWSY'):\n",
    "        behavior = [0,1,0]\n",
    "    elif(condition=='AGGRESSIVE'):\n",
    "        behavior = [0,0,1]\n",
    "    else:\n",
    "        behavior = [1,0,0]\n",
    "    \n",
    "    Y.append(behavior)\n",
    "\n",
    "Y = array(Y)\n",
    "print(Y.shape)"
   ]
  },
  {
   "cell_type": "code",
   "execution_count": 12,
   "metadata": {},
   "outputs": [
    {
     "name": "stdout",
     "output_type": "stream",
     "text": [
      "(30929, 34)\n",
      "(30929, 3)\n"
     ]
    }
   ],
   "source": [
    "#min max scaler\n",
    "X = input_data\n",
    "scaler = MinMaxScaler()\n",
    "X = scaler.fit_transform(X)\n",
    "print(X.shape)\n",
    "print(Y.shape)"
   ]
  },
  {
   "cell_type": "code",
   "execution_count": 13,
   "metadata": {},
   "outputs": [
    {
     "name": "stdout",
     "output_type": "stream",
     "text": [
      "(30929, 1, 34)\n"
     ]
    }
   ],
   "source": [
    "X = np.reshape(X,(int(X.shape[0]/split_columns),split_columns,X.shape[1]))\n",
    "print(X.shape)"
   ]
  },
  {
   "cell_type": "code",
   "execution_count": 14,
   "metadata": {},
   "outputs": [],
   "source": [
    "#SPLITTING TRAINING AND TEST DATA\n",
    "X_train, X_test, Y_train, Y_test = train_test_split(X, Y, test_size = 0.2, random_state = 4)"
   ]
  },
  {
   "cell_type": "code",
   "execution_count": null,
   "metadata": {},
   "outputs": [],
   "source": []
  },
  {
   "cell_type": "code",
   "execution_count": 15,
   "metadata": {},
   "outputs": [
    {
     "name": "stdout",
     "output_type": "stream",
     "text": [
      "(24743, 1, 34)\n",
      "(6186, 1, 34)\n",
      "(24743, 3)\n",
      "(6186, 3)\n"
     ]
    }
   ],
   "source": [
    "#SPLITTING TRAINING AND TEST DATA\n",
    "#X_train = X[:(int(X.shape[0] * 0.8)),:,:]\n",
    "#X_test = X[(int(X.shape[0] * 0.8)):,:,:]\n",
    "print(X_train.shape)\n",
    "print(X_test.shape)\n",
    "#Y_train = Y[:(int(Y.shape[0] * 0.8)),:]\n",
    "#Y_test = Y[(int(Y.shape[0] * 0.8)):,:]\n",
    "print(Y_train.shape)\n",
    "print(Y_test.shape)"
   ]
  },
  {
   "cell_type": "code",
   "execution_count": 16,
   "metadata": {},
   "outputs": [],
   "source": [
    "X_train = np.asarray(X_train).astype('float32')"
   ]
  },
  {
   "cell_type": "code",
   "execution_count": 17,
   "metadata": {},
   "outputs": [],
   "source": [
    "Y_train = np.asarray(Y_train).astype('float32')"
   ]
  },
  {
   "cell_type": "code",
   "execution_count": 18,
   "metadata": {},
   "outputs": [
    {
     "name": "stdout",
     "output_type": "stream",
     "text": [
      "Model: \"sequential\"\n",
      "_________________________________________________________________\n",
      "Layer (type)                 Output Shape              Param #   \n",
      "=================================================================\n",
      "lstm (LSTM)                  (None, 1, 100)            54000     \n",
      "_________________________________________________________________\n",
      "lstm_1 (LSTM)                (None, 1, 100)            80400     \n",
      "_________________________________________________________________\n",
      "lstm_2 (LSTM)                (None, 100)               80400     \n",
      "_________________________________________________________________\n",
      "dense (Dense)                (None, 3)                 303       \n",
      "=================================================================\n",
      "Total params: 215,103\n",
      "Trainable params: 215,103\n",
      "Non-trainable params: 0\n",
      "_________________________________________________________________\n"
     ]
    }
   ],
   "source": [
    "model = Sequential()\n",
    "model.add(LSTM(100, activation = 'tanh' , return_sequences=True, input_shape=(X.shape[1], X.shape[2]))) #100,34\n",
    "model.add(LSTM(100, activation = 'tanh' , return_sequences=True, input_shape=(X.shape[1], X.shape[2]))) #100,34\n",
    "model.add(LSTM(100, ))\n",
    "#model.add(Dropout(0.2))\n",
    "model.add(Dense(Y.shape[1])) #3\n",
    "model.compile(optimizer='adam', loss='mae', metrics = ['accuracy'])\n",
    "model.summary()"
   ]
  },
  {
   "cell_type": "code",
   "execution_count": 19,
   "metadata": {},
   "outputs": [
    {
     "name": "stdout",
     "output_type": "stream",
     "text": [
      "Epoch 1/50\n",
      "774/774 [==============================] - 4s 5ms/step - loss: 0.3335 - accuracy: 0.4601 - val_loss: 0.3334 - val_accuracy: 0.4842\n",
      "Epoch 2/50\n",
      "774/774 [==============================] - 3s 4ms/step - loss: 0.3205 - accuracy: 0.4805 - val_loss: 0.3125 - val_accuracy: 0.4549\n",
      "Epoch 3/50\n",
      "774/774 [==============================] - 3s 3ms/step - loss: 0.2972 - accuracy: 0.5294 - val_loss: 0.2733 - val_accuracy: 0.5737\n",
      "Epoch 4/50\n",
      "774/774 [==============================] - 3s 3ms/step - loss: 0.2681 - accuracy: 0.5859 - val_loss: 0.2528 - val_accuracy: 0.6104\n",
      "Epoch 5/50\n",
      "774/774 [==============================] - 3s 3ms/step - loss: 0.2492 - accuracy: 0.6366 - val_loss: 0.2303 - val_accuracy: 0.6752\n",
      "Epoch 6/50\n",
      "774/774 [==============================] - 3s 4ms/step - loss: 0.2304 - accuracy: 0.6673 - val_loss: 0.2143 - val_accuracy: 0.6941\n",
      "Epoch 7/50\n",
      "774/774 [==============================] - 3s 4ms/step - loss: 0.2154 - accuracy: 0.6883 - val_loss: 0.1973 - val_accuracy: 0.7171\n",
      "Epoch 8/50\n",
      "774/774 [==============================] - 3s 3ms/step - loss: 0.2050 - accuracy: 0.7038 - val_loss: 0.1883 - val_accuracy: 0.7320\n",
      "Epoch 9/50\n",
      "774/774 [==============================] - 3s 3ms/step - loss: 0.1943 - accuracy: 0.7209 - val_loss: 0.1783 - val_accuracy: 0.7527\n",
      "Epoch 10/50\n",
      "774/774 [==============================] - 3s 3ms/step - loss: 0.1816 - accuracy: 0.7441 - val_loss: 0.1674 - val_accuracy: 0.7638\n",
      "Epoch 11/50\n",
      "774/774 [==============================] - 3s 4ms/step - loss: 0.1749 - accuracy: 0.7522 - val_loss: 0.1633 - val_accuracy: 0.7696\n",
      "Epoch 12/50\n",
      "774/774 [==============================] - 3s 3ms/step - loss: 0.1693 - accuracy: 0.7635 - val_loss: 0.1575 - val_accuracy: 0.7810\n",
      "Epoch 13/50\n",
      "774/774 [==============================] - 3s 3ms/step - loss: 0.1632 - accuracy: 0.7729 - val_loss: 0.1556 - val_accuracy: 0.7793\n",
      "Epoch 14/50\n",
      "774/774 [==============================] - 3s 3ms/step - loss: 0.1578 - accuracy: 0.7806 - val_loss: 0.1515 - val_accuracy: 0.7866\n",
      "Epoch 15/50\n",
      "774/774 [==============================] - 3s 3ms/step - loss: 0.1523 - accuracy: 0.7878 - val_loss: 0.1540 - val_accuracy: 0.7856\n",
      "Epoch 16/50\n",
      "774/774 [==============================] - 3s 3ms/step - loss: 0.1479 - accuracy: 0.7946 - val_loss: 0.1504 - val_accuracy: 0.7894\n",
      "Epoch 17/50\n",
      "774/774 [==============================] - 3s 4ms/step - loss: 0.1446 - accuracy: 0.7991 - val_loss: 0.1469 - val_accuracy: 0.7944\n",
      "Epoch 18/50\n",
      "774/774 [==============================] - 3s 3ms/step - loss: 0.1397 - accuracy: 0.8068 - val_loss: 0.1469 - val_accuracy: 0.7974\n",
      "Epoch 19/50\n",
      "774/774 [==============================] - 3s 3ms/step - loss: 0.1366 - accuracy: 0.8113 - val_loss: 0.1415 - val_accuracy: 0.8054\n",
      "Epoch 20/50\n",
      "774/774 [==============================] - 3s 4ms/step - loss: 0.1345 - accuracy: 0.8141 - val_loss: 0.1363 - val_accuracy: 0.8131\n",
      "Epoch 21/50\n",
      "774/774 [==============================] - 3s 4ms/step - loss: 0.1312 - accuracy: 0.8190 - val_loss: 0.1361 - val_accuracy: 0.8113\n",
      "Epoch 22/50\n",
      "774/774 [==============================] - 3s 4ms/step - loss: 0.1282 - accuracy: 0.8247 - val_loss: 0.1285 - val_accuracy: 0.8214\n",
      "Epoch 23/50\n",
      "774/774 [==============================] - 3s 4ms/step - loss: 0.1257 - accuracy: 0.8268 - val_loss: 0.1361 - val_accuracy: 0.8133\n",
      "Epoch 24/50\n",
      "774/774 [==============================] - 3s 4ms/step - loss: 0.1233 - accuracy: 0.8316 - val_loss: 0.1275 - val_accuracy: 0.8233\n",
      "Epoch 25/50\n",
      "774/774 [==============================] - 3s 4ms/step - loss: 0.1209 - accuracy: 0.8349 - val_loss: 0.1263 - val_accuracy: 0.8244\n",
      "Epoch 26/50\n",
      "774/774 [==============================] - 3s 4ms/step - loss: 0.1190 - accuracy: 0.8396 - val_loss: 0.1253 - val_accuracy: 0.8244\n",
      "Epoch 27/50\n",
      "774/774 [==============================] - 3s 4ms/step - loss: 0.1165 - accuracy: 0.8433 - val_loss: 0.1251 - val_accuracy: 0.8277\n",
      "Epoch 28/50\n",
      "774/774 [==============================] - 3s 4ms/step - loss: 0.1150 - accuracy: 0.8465 - val_loss: 0.1225 - val_accuracy: 0.8325\n",
      "Epoch 29/50\n",
      "774/774 [==============================] - 3s 4ms/step - loss: 0.1140 - accuracy: 0.8466 - val_loss: 0.1129 - val_accuracy: 0.8445\n",
      "Epoch 30/50\n",
      "774/774 [==============================] - 3s 4ms/step - loss: 0.1109 - accuracy: 0.8518 - val_loss: 0.1137 - val_accuracy: 0.8469\n",
      "Epoch 31/50\n",
      "774/774 [==============================] - 3s 4ms/step - loss: 0.1088 - accuracy: 0.8551 - val_loss: 0.1151 - val_accuracy: 0.8440\n",
      "Epoch 32/50\n",
      "774/774 [==============================] - 3s 4ms/step - loss: 0.1072 - accuracy: 0.8581 - val_loss: 0.1138 - val_accuracy: 0.8438\n",
      "Epoch 33/50\n",
      "774/774 [==============================] - 3s 4ms/step - loss: 0.1053 - accuracy: 0.8613 - val_loss: 0.1109 - val_accuracy: 0.8508\n",
      "Epoch 34/50\n",
      "774/774 [==============================] - 3s 4ms/step - loss: 0.1027 - accuracy: 0.8663 - val_loss: 0.1131 - val_accuracy: 0.8477\n",
      "Epoch 35/50\n",
      "774/774 [==============================] - 3s 4ms/step - loss: 0.1009 - accuracy: 0.8691 - val_loss: 0.1092 - val_accuracy: 0.8547\n",
      "Epoch 36/50\n",
      "774/774 [==============================] - 3s 4ms/step - loss: 0.0995 - accuracy: 0.8705 - val_loss: 0.1068 - val_accuracy: 0.8548\n",
      "Epoch 37/50\n",
      "774/774 [==============================] - 3s 4ms/step - loss: 0.0969 - accuracy: 0.8759 - val_loss: 0.1091 - val_accuracy: 0.8535\n",
      "Epoch 38/50\n",
      "774/774 [==============================] - 3s 4ms/step - loss: 0.0942 - accuracy: 0.8798 - val_loss: 0.1053 - val_accuracy: 0.8595\n",
      "Epoch 39/50\n",
      "774/774 [==============================] - 3s 4ms/step - loss: 0.0921 - accuracy: 0.8842 - val_loss: 0.1063 - val_accuracy: 0.8594\n",
      "Epoch 40/50\n",
      "774/774 [==============================] - 3s 4ms/step - loss: 0.0899 - accuracy: 0.8871 - val_loss: 0.0992 - val_accuracy: 0.8716\n",
      "Epoch 41/50\n",
      "774/774 [==============================] - 3s 4ms/step - loss: 0.0884 - accuracy: 0.8912 - val_loss: 0.0980 - val_accuracy: 0.8747\n",
      "Epoch 42/50\n",
      "774/774 [==============================] - 3s 4ms/step - loss: 0.0864 - accuracy: 0.8954 - val_loss: 0.0898 - val_accuracy: 0.8878\n",
      "Epoch 43/50\n",
      "774/774 [==============================] - 3s 4ms/step - loss: 0.0847 - accuracy: 0.8965 - val_loss: 0.0874 - val_accuracy: 0.8922\n",
      "Epoch 44/50\n",
      "774/774 [==============================] - 3s 4ms/step - loss: 0.0839 - accuracy: 0.8988 - val_loss: 0.0918 - val_accuracy: 0.8857\n",
      "Epoch 45/50\n",
      "774/774 [==============================] - 3s 4ms/step - loss: 0.0815 - accuracy: 0.9027 - val_loss: 0.0978 - val_accuracy: 0.8755\n",
      "Epoch 46/50\n",
      "774/774 [==============================] - 3s 4ms/step - loss: 0.0807 - accuracy: 0.9038 - val_loss: 0.0862 - val_accuracy: 0.8954\n",
      "Epoch 47/50\n",
      "774/774 [==============================] - 3s 4ms/step - loss: 0.0793 - accuracy: 0.9060 - val_loss: 0.0896 - val_accuracy: 0.8910\n",
      "Epoch 48/50\n",
      "774/774 [==============================] - 3s 4ms/step - loss: 0.0766 - accuracy: 0.9099 - val_loss: 0.0862 - val_accuracy: 0.8949\n",
      "Epoch 49/50\n",
      "774/774 [==============================] - 3s 4ms/step - loss: 0.0758 - accuracy: 0.9103 - val_loss: 0.0845 - val_accuracy: 0.8980\n",
      "Epoch 50/50\n",
      "774/774 [==============================] - 3s 4ms/step - loss: 0.0753 - accuracy: 0.9120 - val_loss: 0.0820 - val_accuracy: 0.9025\n"
     ]
    }
   ],
   "source": [
    "# fit network\n",
    "history = model.fit(X_train, Y_train, epochs=50, validation_data=(X_test, Y_test), verbose=1, shuffle=False)"
   ]
  },
  {
   "cell_type": "code",
   "execution_count": 22,
   "metadata": {},
   "outputs": [
    {
     "data": {
      "image/png": "[encoded data removed]",
      "text/plain": [
       "<Figure size 432x288 with 1 Axes>"
      ]
     },
     "metadata": {
      "needs_background": "light"
     },
     "output_type": "display_data"
    }
   ],
   "source": [
    "# plot history\n",
    "pyplot.plot(history.history['loss'], label='train')\n",
    "pyplot.plot(history.history['val_loss'], label='test')\n",
    "pyplot.plot(history.history['accuracy'], label='accuracy')\n",
    "pyplot.legend()\n",
    "pyplot.show()"
   ]
  },
  {
   "cell_type": "code",
   "execution_count": 137,
   "metadata": {},
   "outputs": [],
   "source": [
    "#print(X_test[0])\n",
    "#check = X_test[0].reshape((1, 100, 34))\n",
    "#print(x_input)"
   ]
  },
  {
   "cell_type": "code",
   "execution_count": 138,
   "metadata": {},
   "outputs": [],
   "source": [
    "#pred = model.predict(check)\n",
    "#print(Y_test[0])\n",
    "#print(pred)"
   ]
  },
  {
   "cell_type": "code",
   "execution_count": 23,
   "metadata": {},
   "outputs": [
    {
     "name": "stdout",
     "output_type": "stream",
     "text": [
      "(6186, 3)\n",
      "After the predictions has been estimated, the accuracy is 90.2521823472357 %\n"
     ]
    }
   ],
   "source": [
    "check2 = X_test.reshape((X_test.shape[0], X.shape[1], X.shape[2]))\n",
    "predictions = model.predict(check2)\n",
    "print(predictions.shape)\n",
    "for i in range(predictions.shape[0]):\n",
    "    if (predictions[i][0] >= predictions[i][1] and predictions[i][0] >= predictions[i][2]):\n",
    "        predictions[i] = [1, 0, 0]\n",
    "    elif (predictions[i][1] >= predictions[i][0] and predictions[i][1] >= predictions[i][2]):\n",
    "        predictions[i] = [0, 1, 0]\n",
    "    else:\n",
    "        predictions[i] = [0, 0, 1]\n",
    "\n",
    "\n",
    "        \n",
    "count = 0\n",
    "for i in range(predictions.shape[0]):\n",
    "    if(predictions[i][0] == (Y_test[i][0]) and predictions[i][1] == (Y_test[i][1]) and predictions[i][2] == (Y_test[i][2]) ):\n",
    "        count = count + 1\n",
    "print('After the predictions has been estimated, the accuracy is ' + str((count/predictions.shape[0])*100) + ' %')"
   ]
  },
  {
   "cell_type": "code",
   "execution_count": null,
   "metadata": {},
   "outputs": [],
   "source": []
  },
  {
   "cell_type": "code",
   "execution_count": null,
   "metadata": {},
   "outputs": [],
   "source": []
  },
  {
   "cell_type": "code",
   "execution_count": null,
   "metadata": {},
   "outputs": [],
   "source": []
  }
 ],
 "metadata": {
  "kernelspec": {
   "display_name": "Python 3",
   "language": "python",
   "name": "python3"
  },
  "language_info": {
   "codemirror_mode": {
    "name": "ipython",
    "version": 3
   },
   "file_extension": ".py",
   "mimetype": "text/x-python",
   "name": "python",
   "nbconvert_exporter": "python",
   "pygments_lexer": "ipython3",
   "version": "3.8.3"
  }
 },
 "nbformat": 4,
 "nbformat_minor": 4
}
